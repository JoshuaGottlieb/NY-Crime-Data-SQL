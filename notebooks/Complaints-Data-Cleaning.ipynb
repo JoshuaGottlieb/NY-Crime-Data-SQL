{
 "cells": [
  {
   "cell_type": "markdown",
   "id": "cd072081",
   "metadata": {},
   "source": [
    "## Load Libraries and Data"
   ]
  },
  {
   "cell_type": "code",
   "execution_count": 1,
   "id": "48fe777b",
   "metadata": {},
   "outputs": [],
   "source": [
    "import numpy as np\n",
    "import pandas as pd"
   ]
  },
  {
   "cell_type": "code",
   "execution_count": 2,
   "id": "07f77713",
   "metadata": {},
   "outputs": [],
   "source": [
    "complaint_data_csv = '../data/NYPD_Complaint_Data_Historic_20241014.csv'"
   ]
  },
  {
   "cell_type": "code",
   "execution_count": 3,
   "id": "a5f002e9",
   "metadata": {},
   "outputs": [
    {
     "name": "stderr",
     "output_type": "stream",
     "text": [
      "/tmp/ipykernel_25100/1619306799.py:1: DtypeWarning: Columns (0) have mixed types. Specify dtype option on import or set low_memory=False.\n",
      "  df = pd.read_csv(complaint_data_csv)\n"
     ]
    },
    {
     "data": {
      "text/html": [
       "<div>\n",
       "<style scoped>\n",
       "    .dataframe tbody tr th:only-of-type {\n",
       "        vertical-align: middle;\n",
       "    }\n",
       "\n",
       "    .dataframe tbody tr th {\n",
       "        vertical-align: top;\n",
       "    }\n",
       "\n",
       "    .dataframe thead th {\n",
       "        text-align: right;\n",
       "    }\n",
       "</style>\n",
       "<table border=\"1\" class=\"dataframe\">\n",
       "  <thead>\n",
       "    <tr style=\"text-align: right;\">\n",
       "      <th></th>\n",
       "      <th>CMPLNT_NUM</th>\n",
       "      <th>CMPLNT_FR_DT</th>\n",
       "      <th>CMPLNT_FR_TM</th>\n",
       "      <th>CMPLNT_TO_DT</th>\n",
       "      <th>CMPLNT_TO_TM</th>\n",
       "      <th>ADDR_PCT_CD</th>\n",
       "      <th>RPT_DT</th>\n",
       "      <th>KY_CD</th>\n",
       "      <th>OFNS_DESC</th>\n",
       "      <th>PD_CD</th>\n",
       "      <th>...</th>\n",
       "      <th>SUSP_SEX</th>\n",
       "      <th>TRANSIT_DISTRICT</th>\n",
       "      <th>Latitude</th>\n",
       "      <th>Longitude</th>\n",
       "      <th>Lat_Lon</th>\n",
       "      <th>PATROL_BORO</th>\n",
       "      <th>STATION_NAME</th>\n",
       "      <th>VIC_AGE_GROUP</th>\n",
       "      <th>VIC_RACE</th>\n",
       "      <th>VIC_SEX</th>\n",
       "    </tr>\n",
       "  </thead>\n",
       "  <tbody>\n",
       "    <tr>\n",
       "      <th>0</th>\n",
       "      <td>25640826H10611</td>\n",
       "      <td>12/05/2006</td>\n",
       "      <td>10:38:00</td>\n",
       "      <td>NaN</td>\n",
       "      <td>(null)</td>\n",
       "      <td>NaN</td>\n",
       "      <td>12/05/2006</td>\n",
       "      <td>101</td>\n",
       "      <td>MURDER &amp; NON-NEGL. MANSLAUGHTER</td>\n",
       "      <td>NaN</td>\n",
       "      <td>...</td>\n",
       "      <td>(null)</td>\n",
       "      <td>NaN</td>\n",
       "      <td>NaN</td>\n",
       "      <td>NaN</td>\n",
       "      <td>NaN</td>\n",
       "      <td>PATROL BORO QUEENS NORTH</td>\n",
       "      <td>(null)</td>\n",
       "      <td>25-44</td>\n",
       "      <td>WHITE HISPANIC</td>\n",
       "      <td>M</td>\n",
       "    </tr>\n",
       "    <tr>\n",
       "      <th>1</th>\n",
       "      <td>16631501H8965</td>\n",
       "      <td>08/25/1973</td>\n",
       "      <td>12:15:00</td>\n",
       "      <td>NaN</td>\n",
       "      <td>(null)</td>\n",
       "      <td>NaN</td>\n",
       "      <td>05/29/2006</td>\n",
       "      <td>101</td>\n",
       "      <td>MURDER &amp; NON-NEGL. MANSLAUGHTER</td>\n",
       "      <td>NaN</td>\n",
       "      <td>...</td>\n",
       "      <td>(null)</td>\n",
       "      <td>NaN</td>\n",
       "      <td>NaN</td>\n",
       "      <td>NaN</td>\n",
       "      <td>NaN</td>\n",
       "      <td>PATROL BORO MAN NORTH</td>\n",
       "      <td>(null)</td>\n",
       "      <td>45-64</td>\n",
       "      <td>BLACK</td>\n",
       "      <td>F</td>\n",
       "    </tr>\n",
       "    <tr>\n",
       "      <th>2</th>\n",
       "      <td>11118212H8714</td>\n",
       "      <td>04/22/2006</td>\n",
       "      <td>16:50:00</td>\n",
       "      <td>NaN</td>\n",
       "      <td>(null)</td>\n",
       "      <td>NaN</td>\n",
       "      <td>04/22/2006</td>\n",
       "      <td>101</td>\n",
       "      <td>MURDER &amp; NON-NEGL. MANSLAUGHTER</td>\n",
       "      <td>NaN</td>\n",
       "      <td>...</td>\n",
       "      <td>(null)</td>\n",
       "      <td>NaN</td>\n",
       "      <td>NaN</td>\n",
       "      <td>NaN</td>\n",
       "      <td>NaN</td>\n",
       "      <td>PATROL BORO BKLYN SOUTH</td>\n",
       "      <td>(null)</td>\n",
       "      <td>45-64</td>\n",
       "      <td>BLACK</td>\n",
       "      <td>M</td>\n",
       "    </tr>\n",
       "    <tr>\n",
       "      <th>3</th>\n",
       "      <td>23471265H9399</td>\n",
       "      <td>07/20/2006</td>\n",
       "      <td>22:37:00</td>\n",
       "      <td>NaN</td>\n",
       "      <td>(null)</td>\n",
       "      <td>NaN</td>\n",
       "      <td>07/20/2006</td>\n",
       "      <td>101</td>\n",
       "      <td>MURDER &amp; NON-NEGL. MANSLAUGHTER</td>\n",
       "      <td>NaN</td>\n",
       "      <td>...</td>\n",
       "      <td>(null)</td>\n",
       "      <td>NaN</td>\n",
       "      <td>NaN</td>\n",
       "      <td>NaN</td>\n",
       "      <td>NaN</td>\n",
       "      <td>PATROL BORO BKLYN SOUTH</td>\n",
       "      <td>(null)</td>\n",
       "      <td>18-24</td>\n",
       "      <td>BLACK</td>\n",
       "      <td>M</td>\n",
       "    </tr>\n",
       "    <tr>\n",
       "      <th>4</th>\n",
       "      <td>24565927H10142</td>\n",
       "      <td>04/14/2006</td>\n",
       "      <td>02:37:00</td>\n",
       "      <td>NaN</td>\n",
       "      <td>(null)</td>\n",
       "      <td>NaN</td>\n",
       "      <td>04/14/2006</td>\n",
       "      <td>101</td>\n",
       "      <td>MURDER &amp; NON-NEGL. MANSLAUGHTER</td>\n",
       "      <td>NaN</td>\n",
       "      <td>...</td>\n",
       "      <td>(null)</td>\n",
       "      <td>NaN</td>\n",
       "      <td>NaN</td>\n",
       "      <td>NaN</td>\n",
       "      <td>NaN</td>\n",
       "      <td>PATROL BORO BKLYN NORTH</td>\n",
       "      <td>(null)</td>\n",
       "      <td>45-64</td>\n",
       "      <td>BLACK</td>\n",
       "      <td>M</td>\n",
       "    </tr>\n",
       "    <tr>\n",
       "      <th>...</th>\n",
       "      <td>...</td>\n",
       "      <td>...</td>\n",
       "      <td>...</td>\n",
       "      <td>...</td>\n",
       "      <td>...</td>\n",
       "      <td>...</td>\n",
       "      <td>...</td>\n",
       "      <td>...</td>\n",
       "      <td>...</td>\n",
       "      <td>...</td>\n",
       "      <td>...</td>\n",
       "      <td>...</td>\n",
       "      <td>...</td>\n",
       "      <td>...</td>\n",
       "      <td>...</td>\n",
       "      <td>...</td>\n",
       "      <td>...</td>\n",
       "      <td>...</td>\n",
       "      <td>...</td>\n",
       "      <td>...</td>\n",
       "      <td>...</td>\n",
       "    </tr>\n",
       "    <tr>\n",
       "      <th>8914833</th>\n",
       "      <td>272431385</td>\n",
       "      <td>08/01/2023</td>\n",
       "      <td>03:45:00</td>\n",
       "      <td>08/01/2023</td>\n",
       "      <td>03:50:00</td>\n",
       "      <td>105.0</td>\n",
       "      <td>08/04/2023</td>\n",
       "      <td>341</td>\n",
       "      <td>PETIT LARCENY</td>\n",
       "      <td>321.0</td>\n",
       "      <td>...</td>\n",
       "      <td>U</td>\n",
       "      <td>NaN</td>\n",
       "      <td>40.697605</td>\n",
       "      <td>-73.727707</td>\n",
       "      <td>(40.697605, -73.727707)</td>\n",
       "      <td>PATROL BORO QUEENS SOUTH</td>\n",
       "      <td>(null)</td>\n",
       "      <td>65+</td>\n",
       "      <td>BLACK</td>\n",
       "      <td>M</td>\n",
       "    </tr>\n",
       "    <tr>\n",
       "      <th>8914834</th>\n",
       "      <td>273033152</td>\n",
       "      <td>08/16/2023</td>\n",
       "      <td>21:00:00</td>\n",
       "      <td>08/16/2023</td>\n",
       "      <td>21:05:00</td>\n",
       "      <td>105.0</td>\n",
       "      <td>08/17/2023</td>\n",
       "      <td>344</td>\n",
       "      <td>ASSAULT 3 &amp; RELATED OFFENSES</td>\n",
       "      <td>101.0</td>\n",
       "      <td>...</td>\n",
       "      <td>F</td>\n",
       "      <td>NaN</td>\n",
       "      <td>40.718172</td>\n",
       "      <td>-73.736134</td>\n",
       "      <td>(40.71817168981014, -73.73613374614645)</td>\n",
       "      <td>PATROL BORO QUEENS SOUTH</td>\n",
       "      <td>(null)</td>\n",
       "      <td>25-44</td>\n",
       "      <td>BLACK</td>\n",
       "      <td>F</td>\n",
       "    </tr>\n",
       "    <tr>\n",
       "      <th>8914835</th>\n",
       "      <td>270041815</td>\n",
       "      <td>06/19/2023</td>\n",
       "      <td>01:50:00</td>\n",
       "      <td>06/19/2023</td>\n",
       "      <td>04:30:00</td>\n",
       "      <td>105.0</td>\n",
       "      <td>06/19/2023</td>\n",
       "      <td>107</td>\n",
       "      <td>BURGLARY</td>\n",
       "      <td>223.0</td>\n",
       "      <td>...</td>\n",
       "      <td>U</td>\n",
       "      <td>NaN</td>\n",
       "      <td>40.663804</td>\n",
       "      <td>-73.731601</td>\n",
       "      <td>(40.663804, -73.731601)</td>\n",
       "      <td>PATROL BORO QUEENS SOUTH</td>\n",
       "      <td>(null)</td>\n",
       "      <td>45-64</td>\n",
       "      <td>ASIAN / PACIFIC ISLANDER</td>\n",
       "      <td>M</td>\n",
       "    </tr>\n",
       "    <tr>\n",
       "      <th>8914836</th>\n",
       "      <td>273151416</td>\n",
       "      <td>08/19/2023</td>\n",
       "      <td>15:37:00</td>\n",
       "      <td>08/19/2023</td>\n",
       "      <td>15:52:00</td>\n",
       "      <td>113.0</td>\n",
       "      <td>08/19/2023</td>\n",
       "      <td>126</td>\n",
       "      <td>MISCELLANEOUS PENAL LAW</td>\n",
       "      <td>117.0</td>\n",
       "      <td>...</td>\n",
       "      <td>F</td>\n",
       "      <td>NaN</td>\n",
       "      <td>40.697672</td>\n",
       "      <td>-73.750627</td>\n",
       "      <td>(40.697672, -73.750627)</td>\n",
       "      <td>PATROL BORO QUEENS SOUTH</td>\n",
       "      <td>(null)</td>\n",
       "      <td>UNKNOWN</td>\n",
       "      <td>UNKNOWN</td>\n",
       "      <td>M</td>\n",
       "    </tr>\n",
       "    <tr>\n",
       "      <th>8914837</th>\n",
       "      <td>276267757</td>\n",
       "      <td>10/19/2023</td>\n",
       "      <td>01:00:00</td>\n",
       "      <td>10/19/2023</td>\n",
       "      <td>01:25:00</td>\n",
       "      <td>105.0</td>\n",
       "      <td>10/19/2023</td>\n",
       "      <td>578</td>\n",
       "      <td>HARRASSMENT 2</td>\n",
       "      <td>638.0</td>\n",
       "      <td>...</td>\n",
       "      <td>U</td>\n",
       "      <td>NaN</td>\n",
       "      <td>40.735556</td>\n",
       "      <td>-73.710582</td>\n",
       "      <td>(40.735556, -73.710582)</td>\n",
       "      <td>PATROL BORO QUEENS SOUTH</td>\n",
       "      <td>(null)</td>\n",
       "      <td>45-64</td>\n",
       "      <td>ASIAN / PACIFIC ISLANDER</td>\n",
       "      <td>F</td>\n",
       "    </tr>\n",
       "  </tbody>\n",
       "</table>\n",
       "<p>8914838 rows × 35 columns</p>\n",
       "</div>"
      ],
      "text/plain": [
       "             CMPLNT_NUM CMPLNT_FR_DT CMPLNT_FR_TM CMPLNT_TO_DT CMPLNT_TO_TM  \\\n",
       "0        25640826H10611   12/05/2006     10:38:00          NaN       (null)   \n",
       "1         16631501H8965   08/25/1973     12:15:00          NaN       (null)   \n",
       "2         11118212H8714   04/22/2006     16:50:00          NaN       (null)   \n",
       "3         23471265H9399   07/20/2006     22:37:00          NaN       (null)   \n",
       "4        24565927H10142   04/14/2006     02:37:00          NaN       (null)   \n",
       "...                 ...          ...          ...          ...          ...   \n",
       "8914833       272431385   08/01/2023     03:45:00   08/01/2023     03:50:00   \n",
       "8914834       273033152   08/16/2023     21:00:00   08/16/2023     21:05:00   \n",
       "8914835       270041815   06/19/2023     01:50:00   06/19/2023     04:30:00   \n",
       "8914836       273151416   08/19/2023     15:37:00   08/19/2023     15:52:00   \n",
       "8914837       276267757   10/19/2023     01:00:00   10/19/2023     01:25:00   \n",
       "\n",
       "         ADDR_PCT_CD      RPT_DT  KY_CD                        OFNS_DESC  \\\n",
       "0                NaN  12/05/2006    101  MURDER & NON-NEGL. MANSLAUGHTER   \n",
       "1                NaN  05/29/2006    101  MURDER & NON-NEGL. MANSLAUGHTER   \n",
       "2                NaN  04/22/2006    101  MURDER & NON-NEGL. MANSLAUGHTER   \n",
       "3                NaN  07/20/2006    101  MURDER & NON-NEGL. MANSLAUGHTER   \n",
       "4                NaN  04/14/2006    101  MURDER & NON-NEGL. MANSLAUGHTER   \n",
       "...              ...         ...    ...                              ...   \n",
       "8914833        105.0  08/04/2023    341                    PETIT LARCENY   \n",
       "8914834        105.0  08/17/2023    344     ASSAULT 3 & RELATED OFFENSES   \n",
       "8914835        105.0  06/19/2023    107                         BURGLARY   \n",
       "8914836        113.0  08/19/2023    126          MISCELLANEOUS PENAL LAW   \n",
       "8914837        105.0  10/19/2023    578                    HARRASSMENT 2   \n",
       "\n",
       "         PD_CD  ... SUSP_SEX TRANSIT_DISTRICT   Latitude  Longitude  \\\n",
       "0          NaN  ...   (null)              NaN        NaN        NaN   \n",
       "1          NaN  ...   (null)              NaN        NaN        NaN   \n",
       "2          NaN  ...   (null)              NaN        NaN        NaN   \n",
       "3          NaN  ...   (null)              NaN        NaN        NaN   \n",
       "4          NaN  ...   (null)              NaN        NaN        NaN   \n",
       "...        ...  ...      ...              ...        ...        ...   \n",
       "8914833  321.0  ...        U              NaN  40.697605 -73.727707   \n",
       "8914834  101.0  ...        F              NaN  40.718172 -73.736134   \n",
       "8914835  223.0  ...        U              NaN  40.663804 -73.731601   \n",
       "8914836  117.0  ...        F              NaN  40.697672 -73.750627   \n",
       "8914837  638.0  ...        U              NaN  40.735556 -73.710582   \n",
       "\n",
       "                                         Lat_Lon               PATROL_BORO  \\\n",
       "0                                            NaN  PATROL BORO QUEENS NORTH   \n",
       "1                                            NaN     PATROL BORO MAN NORTH   \n",
       "2                                            NaN   PATROL BORO BKLYN SOUTH   \n",
       "3                                            NaN   PATROL BORO BKLYN SOUTH   \n",
       "4                                            NaN   PATROL BORO BKLYN NORTH   \n",
       "...                                          ...                       ...   \n",
       "8914833                  (40.697605, -73.727707)  PATROL BORO QUEENS SOUTH   \n",
       "8914834  (40.71817168981014, -73.73613374614645)  PATROL BORO QUEENS SOUTH   \n",
       "8914835                  (40.663804, -73.731601)  PATROL BORO QUEENS SOUTH   \n",
       "8914836                  (40.697672, -73.750627)  PATROL BORO QUEENS SOUTH   \n",
       "8914837                  (40.735556, -73.710582)  PATROL BORO QUEENS SOUTH   \n",
       "\n",
       "        STATION_NAME  VIC_AGE_GROUP                  VIC_RACE VIC_SEX  \n",
       "0             (null)          25-44            WHITE HISPANIC       M  \n",
       "1             (null)          45-64                     BLACK       F  \n",
       "2             (null)          45-64                     BLACK       M  \n",
       "3             (null)          18-24                     BLACK       M  \n",
       "4             (null)          45-64                     BLACK       M  \n",
       "...              ...            ...                       ...     ...  \n",
       "8914833       (null)            65+                     BLACK       M  \n",
       "8914834       (null)          25-44                     BLACK       F  \n",
       "8914835       (null)          45-64  ASIAN / PACIFIC ISLANDER       M  \n",
       "8914836       (null)        UNKNOWN                   UNKNOWN       M  \n",
       "8914837       (null)          45-64  ASIAN / PACIFIC ISLANDER       F  \n",
       "\n",
       "[8914838 rows x 35 columns]"
      ]
     },
     "execution_count": 3,
     "metadata": {},
     "output_type": "execute_result"
    }
   ],
   "source": [
    "df = pd.read_csv(complaint_data_csv)\n",
    "df"
   ]
  },
  {
   "cell_type": "code",
   "execution_count": 4,
   "id": "145770fc",
   "metadata": {},
   "outputs": [],
   "source": [
    "# Convert string ('null') values into nans\n",
    "df = df.replace('(null)', np.nan)"
   ]
  },
  {
   "cell_type": "code",
   "execution_count": 5,
   "id": "a8296d4e",
   "metadata": {},
   "outputs": [
    {
     "name": "stdout",
     "output_type": "stream",
     "text": [
      "<class 'pandas.core.frame.DataFrame'>\n",
      "RangeIndex: 8914838 entries, 0 to 8914837\n",
      "Data columns (total 35 columns):\n",
      " #   Column             Dtype  \n",
      "---  ------             -----  \n",
      " 0   CMPLNT_NUM         object \n",
      " 1   CMPLNT_FR_DT       object \n",
      " 2   CMPLNT_FR_TM       object \n",
      " 3   CMPLNT_TO_DT       object \n",
      " 4   CMPLNT_TO_TM       object \n",
      " 5   ADDR_PCT_CD        float64\n",
      " 6   RPT_DT             object \n",
      " 7   KY_CD              int64  \n",
      " 8   OFNS_DESC          object \n",
      " 9   PD_CD              float64\n",
      " 10  PD_DESC            object \n",
      " 11  CRM_ATPT_CPTD_CD   object \n",
      " 12  LAW_CAT_CD         object \n",
      " 13  BORO_NM            object \n",
      " 14  LOC_OF_OCCUR_DESC  object \n",
      " 15  PREM_TYP_DESC      object \n",
      " 16  JURIS_DESC         object \n",
      " 17  JURISDICTION_CODE  int64  \n",
      " 18  PARKS_NM           object \n",
      " 19  HADEVELOPT         object \n",
      " 20  HOUSING_PSA        object \n",
      " 21  X_COORD_CD         float64\n",
      " 22  Y_COORD_CD         float64\n",
      " 23  SUSP_AGE_GROUP     object \n",
      " 24  SUSP_RACE          object \n",
      " 25  SUSP_SEX           object \n",
      " 26  TRANSIT_DISTRICT   float64\n",
      " 27  Latitude           float64\n",
      " 28  Longitude          float64\n",
      " 29  Lat_Lon            object \n",
      " 30  PATROL_BORO        object \n",
      " 31  STATION_NAME       object \n",
      " 32  VIC_AGE_GROUP      object \n",
      " 33  VIC_RACE           object \n",
      " 34  VIC_SEX            object \n",
      "dtypes: float64(7), int64(2), object(26)\n",
      "memory usage: 2.3+ GB\n"
     ]
    }
   ],
   "source": [
    "df.info()"
   ]
  },
  {
   "cell_type": "code",
   "execution_count": 6,
   "id": "3f794197",
   "metadata": {},
   "outputs": [
    {
     "data": {
      "text/plain": [
       "CMPLNT_NUM                 0\n",
       "CMPLNT_FR_DT             655\n",
       "CMPLNT_FR_TM              48\n",
       "CMPLNT_TO_DT         1818958\n",
       "CMPLNT_TO_TM         1813518\n",
       "ADDR_PCT_CD              771\n",
       "RPT_DT                     0\n",
       "KY_CD                      0\n",
       "OFNS_DESC              18886\n",
       "PD_CD                   7593\n",
       "PD_DESC                 7593\n",
       "CRM_ATPT_CPTD_CD         168\n",
       "LAW_CAT_CD                 0\n",
       "BORO_NM                 7884\n",
       "LOC_OF_OCCUR_DESC    1821966\n",
       "PREM_TYP_DESC          39001\n",
       "JURIS_DESC                 0\n",
       "JURISDICTION_CODE          0\n",
       "PARKS_NM             8877278\n",
       "HADEVELOPT           8883190\n",
       "HOUSING_PSA          8244451\n",
       "X_COORD_CD               466\n",
       "Y_COORD_CD               466\n",
       "SUSP_AGE_GROUP       4583671\n",
       "SUSP_RACE            3687178\n",
       "SUSP_SEX             3820549\n",
       "TRANSIT_DISTRICT     8716793\n",
       "Latitude                 466\n",
       "Longitude                466\n",
       "Lat_Lon                  466\n",
       "PATROL_BORO              587\n",
       "STATION_NAME         8716793\n",
       "VIC_AGE_GROUP        1623568\n",
       "VIC_RACE                 671\n",
       "VIC_SEX                  308\n",
       "dtype: int64"
      ]
     },
     "execution_count": 6,
     "metadata": {},
     "output_type": "execute_result"
    }
   ],
   "source": [
    "df.isnull().sum()"
   ]
  },
  {
   "cell_type": "markdown",
   "id": "702ca231",
   "metadata": {},
   "source": [
    "## Missing Values"
   ]
  },
  {
   "cell_type": "code",
   "execution_count": 7,
   "id": "6f33661c",
   "metadata": {},
   "outputs": [],
   "source": [
    "# Complaint date and time occurrences are spread across 2 columns for exact vs. ending\n",
    "# Can compress these values into one column to just capture date and time\n",
    "df.CMPLNT_FR_DT = df.CMPLNT_FR_DT.fillna(df.CMPLNT_TO_DT)\n",
    "df.CMPLNT_FR_TM = df.CMPLNT_FR_TM.fillna(df.CMPLNT_TO_TM)\n",
    "\n",
    "# Drop remaining null values and superfluous date and time columns\n",
    "df = df[~df['CMPLNT_FR_DT'].isnull()]\n",
    "df = df[~df['CMPLNT_FR_TM'].isnull()]\n",
    "df.drop(['CMPLNT_TO_DT', 'CMPLNT_TO_TM'], axis = 1, inplace = True)"
   ]
  },
  {
   "cell_type": "code",
   "execution_count": 8,
   "id": "697175d7",
   "metadata": {},
   "outputs": [
    {
     "data": {
      "text/html": [
       "<div>\n",
       "<style scoped>\n",
       "    .dataframe tbody tr th:only-of-type {\n",
       "        vertical-align: middle;\n",
       "    }\n",
       "\n",
       "    .dataframe tbody tr th {\n",
       "        vertical-align: top;\n",
       "    }\n",
       "\n",
       "    .dataframe thead th {\n",
       "        text-align: right;\n",
       "    }\n",
       "</style>\n",
       "<table border=\"1\" class=\"dataframe\">\n",
       "  <thead>\n",
       "    <tr style=\"text-align: right;\">\n",
       "      <th></th>\n",
       "      <th>CMPLNT_NUM</th>\n",
       "      <th>CMPLNT_FR_DT</th>\n",
       "      <th>CMPLNT_FR_TM</th>\n",
       "      <th>ADDR_PCT_CD</th>\n",
       "      <th>RPT_DT</th>\n",
       "      <th>KY_CD</th>\n",
       "      <th>OFNS_DESC</th>\n",
       "      <th>PD_CD</th>\n",
       "      <th>PD_DESC</th>\n",
       "      <th>CRM_ATPT_CPTD_CD</th>\n",
       "      <th>...</th>\n",
       "      <th>SUSP_SEX</th>\n",
       "      <th>TRANSIT_DISTRICT</th>\n",
       "      <th>Latitude</th>\n",
       "      <th>Longitude</th>\n",
       "      <th>Lat_Lon</th>\n",
       "      <th>PATROL_BORO</th>\n",
       "      <th>STATION_NAME</th>\n",
       "      <th>VIC_AGE_GROUP</th>\n",
       "      <th>VIC_RACE</th>\n",
       "      <th>VIC_SEX</th>\n",
       "    </tr>\n",
       "  </thead>\n",
       "  <tbody>\n",
       "    <tr>\n",
       "      <th>0</th>\n",
       "      <td>25640826H10611</td>\n",
       "      <td>12/05/2006</td>\n",
       "      <td>10:38:00</td>\n",
       "      <td>NaN</td>\n",
       "      <td>12/05/2006</td>\n",
       "      <td>101</td>\n",
       "      <td>MURDER &amp; NON-NEGL. MANSLAUGHTER</td>\n",
       "      <td>NaN</td>\n",
       "      <td>NaN</td>\n",
       "      <td>COMPLETED</td>\n",
       "      <td>...</td>\n",
       "      <td>NaN</td>\n",
       "      <td>NaN</td>\n",
       "      <td>NaN</td>\n",
       "      <td>NaN</td>\n",
       "      <td>NaN</td>\n",
       "      <td>PATROL BORO QUEENS NORTH</td>\n",
       "      <td>NaN</td>\n",
       "      <td>25-44</td>\n",
       "      <td>WHITE HISPANIC</td>\n",
       "      <td>M</td>\n",
       "    </tr>\n",
       "    <tr>\n",
       "      <th>1</th>\n",
       "      <td>16631501H8965</td>\n",
       "      <td>08/25/1973</td>\n",
       "      <td>12:15:00</td>\n",
       "      <td>NaN</td>\n",
       "      <td>05/29/2006</td>\n",
       "      <td>101</td>\n",
       "      <td>MURDER &amp; NON-NEGL. MANSLAUGHTER</td>\n",
       "      <td>NaN</td>\n",
       "      <td>NaN</td>\n",
       "      <td>COMPLETED</td>\n",
       "      <td>...</td>\n",
       "      <td>NaN</td>\n",
       "      <td>NaN</td>\n",
       "      <td>NaN</td>\n",
       "      <td>NaN</td>\n",
       "      <td>NaN</td>\n",
       "      <td>PATROL BORO MAN NORTH</td>\n",
       "      <td>NaN</td>\n",
       "      <td>45-64</td>\n",
       "      <td>BLACK</td>\n",
       "      <td>F</td>\n",
       "    </tr>\n",
       "    <tr>\n",
       "      <th>2</th>\n",
       "      <td>11118212H8714</td>\n",
       "      <td>04/22/2006</td>\n",
       "      <td>16:50:00</td>\n",
       "      <td>NaN</td>\n",
       "      <td>04/22/2006</td>\n",
       "      <td>101</td>\n",
       "      <td>MURDER &amp; NON-NEGL. MANSLAUGHTER</td>\n",
       "      <td>NaN</td>\n",
       "      <td>NaN</td>\n",
       "      <td>COMPLETED</td>\n",
       "      <td>...</td>\n",
       "      <td>NaN</td>\n",
       "      <td>NaN</td>\n",
       "      <td>NaN</td>\n",
       "      <td>NaN</td>\n",
       "      <td>NaN</td>\n",
       "      <td>PATROL BORO BKLYN SOUTH</td>\n",
       "      <td>NaN</td>\n",
       "      <td>45-64</td>\n",
       "      <td>BLACK</td>\n",
       "      <td>M</td>\n",
       "    </tr>\n",
       "    <tr>\n",
       "      <th>3</th>\n",
       "      <td>23471265H9399</td>\n",
       "      <td>07/20/2006</td>\n",
       "      <td>22:37:00</td>\n",
       "      <td>NaN</td>\n",
       "      <td>07/20/2006</td>\n",
       "      <td>101</td>\n",
       "      <td>MURDER &amp; NON-NEGL. MANSLAUGHTER</td>\n",
       "      <td>NaN</td>\n",
       "      <td>NaN</td>\n",
       "      <td>COMPLETED</td>\n",
       "      <td>...</td>\n",
       "      <td>NaN</td>\n",
       "      <td>NaN</td>\n",
       "      <td>NaN</td>\n",
       "      <td>NaN</td>\n",
       "      <td>NaN</td>\n",
       "      <td>PATROL BORO BKLYN SOUTH</td>\n",
       "      <td>NaN</td>\n",
       "      <td>18-24</td>\n",
       "      <td>BLACK</td>\n",
       "      <td>M</td>\n",
       "    </tr>\n",
       "    <tr>\n",
       "      <th>4</th>\n",
       "      <td>24565927H10142</td>\n",
       "      <td>04/14/2006</td>\n",
       "      <td>02:37:00</td>\n",
       "      <td>NaN</td>\n",
       "      <td>04/14/2006</td>\n",
       "      <td>101</td>\n",
       "      <td>MURDER &amp; NON-NEGL. MANSLAUGHTER</td>\n",
       "      <td>NaN</td>\n",
       "      <td>NaN</td>\n",
       "      <td>COMPLETED</td>\n",
       "      <td>...</td>\n",
       "      <td>NaN</td>\n",
       "      <td>NaN</td>\n",
       "      <td>NaN</td>\n",
       "      <td>NaN</td>\n",
       "      <td>NaN</td>\n",
       "      <td>PATROL BORO BKLYN NORTH</td>\n",
       "      <td>NaN</td>\n",
       "      <td>45-64</td>\n",
       "      <td>BLACK</td>\n",
       "      <td>M</td>\n",
       "    </tr>\n",
       "    <tr>\n",
       "      <th>...</th>\n",
       "      <td>...</td>\n",
       "      <td>...</td>\n",
       "      <td>...</td>\n",
       "      <td>...</td>\n",
       "      <td>...</td>\n",
       "      <td>...</td>\n",
       "      <td>...</td>\n",
       "      <td>...</td>\n",
       "      <td>...</td>\n",
       "      <td>...</td>\n",
       "      <td>...</td>\n",
       "      <td>...</td>\n",
       "      <td>...</td>\n",
       "      <td>...</td>\n",
       "      <td>...</td>\n",
       "      <td>...</td>\n",
       "      <td>...</td>\n",
       "      <td>...</td>\n",
       "      <td>...</td>\n",
       "      <td>...</td>\n",
       "      <td>...</td>\n",
       "    </tr>\n",
       "    <tr>\n",
       "      <th>8907414</th>\n",
       "      <td>268554247H1</td>\n",
       "      <td>05/19/2023</td>\n",
       "      <td>15:52:00</td>\n",
       "      <td>NaN</td>\n",
       "      <td>05/19/2023</td>\n",
       "      <td>101</td>\n",
       "      <td>MURDER &amp; NON-NEGL. MANSLAUGHTER</td>\n",
       "      <td>NaN</td>\n",
       "      <td>NaN</td>\n",
       "      <td>COMPLETED</td>\n",
       "      <td>...</td>\n",
       "      <td>M</td>\n",
       "      <td>NaN</td>\n",
       "      <td>NaN</td>\n",
       "      <td>NaN</td>\n",
       "      <td>NaN</td>\n",
       "      <td>PATROL BORO STATEN ISLAND</td>\n",
       "      <td>NaN</td>\n",
       "      <td>&lt;18</td>\n",
       "      <td>BLACK</td>\n",
       "      <td>M</td>\n",
       "    </tr>\n",
       "    <tr>\n",
       "      <th>8909581</th>\n",
       "      <td>277525074H3</td>\n",
       "      <td>11/14/2023</td>\n",
       "      <td>07:05:00</td>\n",
       "      <td>NaN</td>\n",
       "      <td>11/14/2023</td>\n",
       "      <td>101</td>\n",
       "      <td>MURDER &amp; NON-NEGL. MANSLAUGHTER</td>\n",
       "      <td>NaN</td>\n",
       "      <td>NaN</td>\n",
       "      <td>COMPLETED</td>\n",
       "      <td>...</td>\n",
       "      <td>M</td>\n",
       "      <td>NaN</td>\n",
       "      <td>NaN</td>\n",
       "      <td>NaN</td>\n",
       "      <td>NaN</td>\n",
       "      <td>PATROL BORO QUEENS SOUTH</td>\n",
       "      <td>NaN</td>\n",
       "      <td>45-64</td>\n",
       "      <td>BLACK</td>\n",
       "      <td>M</td>\n",
       "    </tr>\n",
       "    <tr>\n",
       "      <th>8910318</th>\n",
       "      <td>269307857H1</td>\n",
       "      <td>06/04/2023</td>\n",
       "      <td>00:20:00</td>\n",
       "      <td>NaN</td>\n",
       "      <td>06/04/2023</td>\n",
       "      <td>101</td>\n",
       "      <td>MURDER &amp; NON-NEGL. MANSLAUGHTER</td>\n",
       "      <td>NaN</td>\n",
       "      <td>NaN</td>\n",
       "      <td>COMPLETED</td>\n",
       "      <td>...</td>\n",
       "      <td>M</td>\n",
       "      <td>NaN</td>\n",
       "      <td>NaN</td>\n",
       "      <td>NaN</td>\n",
       "      <td>NaN</td>\n",
       "      <td>PATROL BORO BKLYN NORTH</td>\n",
       "      <td>NaN</td>\n",
       "      <td>25-44</td>\n",
       "      <td>BLACK</td>\n",
       "      <td>M</td>\n",
       "    </tr>\n",
       "    <tr>\n",
       "      <th>8912596</th>\n",
       "      <td>270206142H1</td>\n",
       "      <td>06/21/2023</td>\n",
       "      <td>16:25:00</td>\n",
       "      <td>NaN</td>\n",
       "      <td>06/21/2023</td>\n",
       "      <td>101</td>\n",
       "      <td>MURDER &amp; NON-NEGL. MANSLAUGHTER</td>\n",
       "      <td>NaN</td>\n",
       "      <td>NaN</td>\n",
       "      <td>COMPLETED</td>\n",
       "      <td>...</td>\n",
       "      <td>M</td>\n",
       "      <td>NaN</td>\n",
       "      <td>NaN</td>\n",
       "      <td>NaN</td>\n",
       "      <td>NaN</td>\n",
       "      <td>PATROL BORO MAN SOUTH</td>\n",
       "      <td>NaN</td>\n",
       "      <td>25-44</td>\n",
       "      <td>BLACK</td>\n",
       "      <td>M</td>\n",
       "    </tr>\n",
       "    <tr>\n",
       "      <th>8913795</th>\n",
       "      <td>276327599H1</td>\n",
       "      <td>10/19/2023</td>\n",
       "      <td>12:02:00</td>\n",
       "      <td>NaN</td>\n",
       "      <td>10/19/2023</td>\n",
       "      <td>101</td>\n",
       "      <td>MURDER &amp; NON-NEGL. MANSLAUGHTER</td>\n",
       "      <td>NaN</td>\n",
       "      <td>NaN</td>\n",
       "      <td>COMPLETED</td>\n",
       "      <td>...</td>\n",
       "      <td>M</td>\n",
       "      <td>NaN</td>\n",
       "      <td>NaN</td>\n",
       "      <td>NaN</td>\n",
       "      <td>NaN</td>\n",
       "      <td>PATROL BORO QUEENS SOUTH</td>\n",
       "      <td>NaN</td>\n",
       "      <td>65+</td>\n",
       "      <td>ASIAN / PACIFIC ISLANDER</td>\n",
       "      <td>M</td>\n",
       "    </tr>\n",
       "  </tbody>\n",
       "</table>\n",
       "<p>466 rows × 33 columns</p>\n",
       "</div>"
      ],
      "text/plain": [
       "             CMPLNT_NUM CMPLNT_FR_DT CMPLNT_FR_TM  ADDR_PCT_CD      RPT_DT  \\\n",
       "0        25640826H10611   12/05/2006     10:38:00          NaN  12/05/2006   \n",
       "1         16631501H8965   08/25/1973     12:15:00          NaN  05/29/2006   \n",
       "2         11118212H8714   04/22/2006     16:50:00          NaN  04/22/2006   \n",
       "3         23471265H9399   07/20/2006     22:37:00          NaN  07/20/2006   \n",
       "4        24565927H10142   04/14/2006     02:37:00          NaN  04/14/2006   \n",
       "...                 ...          ...          ...          ...         ...   \n",
       "8907414     268554247H1   05/19/2023     15:52:00          NaN  05/19/2023   \n",
       "8909581     277525074H3   11/14/2023     07:05:00          NaN  11/14/2023   \n",
       "8910318     269307857H1   06/04/2023     00:20:00          NaN  06/04/2023   \n",
       "8912596     270206142H1   06/21/2023     16:25:00          NaN  06/21/2023   \n",
       "8913795     276327599H1   10/19/2023     12:02:00          NaN  10/19/2023   \n",
       "\n",
       "         KY_CD                        OFNS_DESC  PD_CD PD_DESC  \\\n",
       "0          101  MURDER & NON-NEGL. MANSLAUGHTER    NaN     NaN   \n",
       "1          101  MURDER & NON-NEGL. MANSLAUGHTER    NaN     NaN   \n",
       "2          101  MURDER & NON-NEGL. MANSLAUGHTER    NaN     NaN   \n",
       "3          101  MURDER & NON-NEGL. MANSLAUGHTER    NaN     NaN   \n",
       "4          101  MURDER & NON-NEGL. MANSLAUGHTER    NaN     NaN   \n",
       "...        ...                              ...    ...     ...   \n",
       "8907414    101  MURDER & NON-NEGL. MANSLAUGHTER    NaN     NaN   \n",
       "8909581    101  MURDER & NON-NEGL. MANSLAUGHTER    NaN     NaN   \n",
       "8910318    101  MURDER & NON-NEGL. MANSLAUGHTER    NaN     NaN   \n",
       "8912596    101  MURDER & NON-NEGL. MANSLAUGHTER    NaN     NaN   \n",
       "8913795    101  MURDER & NON-NEGL. MANSLAUGHTER    NaN     NaN   \n",
       "\n",
       "        CRM_ATPT_CPTD_CD  ... SUSP_SEX TRANSIT_DISTRICT Latitude Longitude  \\\n",
       "0              COMPLETED  ...      NaN              NaN      NaN       NaN   \n",
       "1              COMPLETED  ...      NaN              NaN      NaN       NaN   \n",
       "2              COMPLETED  ...      NaN              NaN      NaN       NaN   \n",
       "3              COMPLETED  ...      NaN              NaN      NaN       NaN   \n",
       "4              COMPLETED  ...      NaN              NaN      NaN       NaN   \n",
       "...                  ...  ...      ...              ...      ...       ...   \n",
       "8907414        COMPLETED  ...        M              NaN      NaN       NaN   \n",
       "8909581        COMPLETED  ...        M              NaN      NaN       NaN   \n",
       "8910318        COMPLETED  ...        M              NaN      NaN       NaN   \n",
       "8912596        COMPLETED  ...        M              NaN      NaN       NaN   \n",
       "8913795        COMPLETED  ...        M              NaN      NaN       NaN   \n",
       "\n",
       "        Lat_Lon                PATROL_BORO STATION_NAME VIC_AGE_GROUP  \\\n",
       "0           NaN   PATROL BORO QUEENS NORTH          NaN         25-44   \n",
       "1           NaN      PATROL BORO MAN NORTH          NaN         45-64   \n",
       "2           NaN    PATROL BORO BKLYN SOUTH          NaN         45-64   \n",
       "3           NaN    PATROL BORO BKLYN SOUTH          NaN         18-24   \n",
       "4           NaN    PATROL BORO BKLYN NORTH          NaN         45-64   \n",
       "...         ...                        ...          ...           ...   \n",
       "8907414     NaN  PATROL BORO STATEN ISLAND          NaN           <18   \n",
       "8909581     NaN   PATROL BORO QUEENS SOUTH          NaN         45-64   \n",
       "8910318     NaN    PATROL BORO BKLYN NORTH          NaN         25-44   \n",
       "8912596     NaN      PATROL BORO MAN SOUTH          NaN         25-44   \n",
       "8913795     NaN   PATROL BORO QUEENS SOUTH          NaN           65+   \n",
       "\n",
       "                         VIC_RACE  VIC_SEX  \n",
       "0                  WHITE HISPANIC        M  \n",
       "1                           BLACK        F  \n",
       "2                           BLACK        M  \n",
       "3                           BLACK        M  \n",
       "4                           BLACK        M  \n",
       "...                           ...      ...  \n",
       "8907414                     BLACK        M  \n",
       "8909581                     BLACK        M  \n",
       "8910318                     BLACK        M  \n",
       "8912596                     BLACK        M  \n",
       "8913795  ASIAN / PACIFIC ISLANDER        M  \n",
       "\n",
       "[466 rows x 33 columns]"
      ]
     },
     "execution_count": 8,
     "metadata": {},
     "output_type": "execute_result"
    }
   ],
   "source": [
    "# All of the missing location values appear to be in the same rows\n",
    "df[df['Latitude'].isnull()]"
   ]
  },
  {
   "cell_type": "code",
   "execution_count": 9,
   "id": "9710f72b",
   "metadata": {},
   "outputs": [],
   "source": [
    "# Remove null values and drop extra location columns that are not needed\n",
    "# Lat_Lon is captured by Latitude and Longitude, and X/Y COORC CD are not needed with latitude and longitude\n",
    "df = df[~df['Latitude'].isnull()]\n",
    "df.drop(['X_COORD_CD', 'Y_COORD_CD', 'Lat_Lon'], axis = 1, inplace = True)"
   ]
  },
  {
   "cell_type": "code",
   "execution_count": 10,
   "id": "71848a40",
   "metadata": {},
   "outputs": [
    {
     "data": {
      "text/plain": [
       "CMPLNT_NUM                 0\n",
       "CMPLNT_FR_DT               0\n",
       "CMPLNT_FR_TM               0\n",
       "ADDR_PCT_CD              305\n",
       "RPT_DT                     0\n",
       "KY_CD                      0\n",
       "OFNS_DESC              18882\n",
       "PD_CD                   7510\n",
       "PD_DESC                 7510\n",
       "CRM_ATPT_CPTD_CD         168\n",
       "LAW_CAT_CD                 0\n",
       "BORO_NM                 7883\n",
       "LOC_OF_OCCUR_DESC    1821553\n",
       "PREM_TYP_DESC          38565\n",
       "JURIS_DESC                 0\n",
       "JURISDICTION_CODE          0\n",
       "PARKS_NM             8876654\n",
       "HADEVELOPT           8882569\n",
       "HOUSING_PSA          8243845\n",
       "SUSP_AGE_GROUP       4583193\n",
       "SUSP_RACE            3686801\n",
       "SUSP_SEX             3820152\n",
       "TRANSIT_DISTRICT     8716171\n",
       "Latitude                   0\n",
       "Longitude                  0\n",
       "PATROL_BORO              208\n",
       "STATION_NAME         8716171\n",
       "VIC_AGE_GROUP        1623480\n",
       "VIC_RACE                 671\n",
       "VIC_SEX                  308\n",
       "dtype: int64"
      ]
     },
     "execution_count": 10,
     "metadata": {},
     "output_type": "execute_result"
    }
   ],
   "source": [
    "df.isnull().sum()"
   ]
  },
  {
   "cell_type": "code",
   "execution_count": 11,
   "id": "03c8439e",
   "metadata": {},
   "outputs": [
    {
     "data": {
      "text/plain": [
       "PARKS_NM            0.995787\n",
       "HADEVELOPT          0.996450\n",
       "HOUSING_PSA         0.924798\n",
       "TRANSIT_DISTRICT    0.977783\n",
       "STATION_NAME        0.977783\n",
       "dtype: float64"
      ]
     },
     "execution_count": 11,
     "metadata": {},
     "output_type": "execute_result"
    }
   ],
   "source": [
    "# Some columns are filled with mostly null data and thus are not useful\n",
    "missing_ratios = df.isnull().sum() / len(df.index)\n",
    "highly_missing = missing_ratios[missing_ratios > 0.9]\n",
    "highly_missing_index = highly_missing.index.tolist()\n",
    "highly_missing"
   ]
  },
  {
   "cell_type": "code",
   "execution_count": 12,
   "id": "f83bed82",
   "metadata": {},
   "outputs": [],
   "source": [
    "# Drop these columns that are mostly null\n",
    "df.drop([*highly_missing_index], axis = 1, inplace = True)"
   ]
  },
  {
   "cell_type": "code",
   "execution_count": 13,
   "id": "ad6fc29f",
   "metadata": {},
   "outputs": [
    {
     "data": {
      "text/plain": [
       "LOC_OF_OCCUR_DESC    0.204343\n",
       "SUSP_AGE_GROUP       0.514144\n",
       "SUSP_RACE            0.413587\n",
       "SUSP_SEX             0.428546\n",
       "VIC_AGE_GROUP        0.182123\n",
       "dtype: float64"
      ]
     },
     "execution_count": 13,
     "metadata": {},
     "output_type": "execute_result"
    }
   ],
   "source": [
    "# Moderately large amounts of missing values, investigate more closely\n",
    "moderately_missing = missing_ratios[(missing_ratios > 0.1) & (missing_ratios < 0.9)]\n",
    "moderately_missing_index = moderately_missing.index.tolist()\n",
    "moderately_missing"
   ]
  },
  {
   "cell_type": "code",
   "execution_count": 14,
   "id": "a389d2c9",
   "metadata": {},
   "outputs": [],
   "source": [
    "# Extract value counts to investigate\n",
    "val_counts = [df[c].value_counts(normalize = True) for c in moderately_missing_index]"
   ]
  },
  {
   "cell_type": "code",
   "execution_count": 15,
   "id": "5ea64bfd",
   "metadata": {},
   "outputs": [
    {
     "data": {
      "text/plain": [
       "LOC_OF_OCCUR_DESC\n",
       "INSIDE         0.643600\n",
       "FRONT OF       0.298222\n",
       "OPPOSITE OF    0.031879\n",
       "REAR OF        0.025650\n",
       "OUTSIDE        0.000650\n",
       "Name: proportion, dtype: float64"
      ]
     },
     "execution_count": 15,
     "metadata": {},
     "output_type": "execute_result"
    }
   ],
   "source": [
    "# Probably can impute using mode = INSIDE\n",
    "val_counts[0]"
   ]
  },
  {
   "cell_type": "code",
   "execution_count": 16,
   "id": "c2b597b8",
   "metadata": {},
   "outputs": [
    {
     "data": {
      "text/plain": [
       "SUSP_AGE_GROUP\n",
       "25-44      3.757174e-01\n",
       "UNKNOWN    2.942161e-01\n",
       "18-24      1.398670e-01\n",
       "45-64      1.309566e-01\n",
       "<18        4.706211e-02\n",
       "               ...     \n",
       "3735       2.308924e-07\n",
       "1976       2.308924e-07\n",
       "534        2.308924e-07\n",
       "639        2.308924e-07\n",
       "-5         2.308924e-07\n",
       "Name: proportion, Length: 274, dtype: float64"
      ]
     },
     "execution_count": 16,
     "metadata": {},
     "output_type": "execute_result"
    }
   ],
   "source": [
    "# Can impute using UNKNOWN, note that -5 is not a good value, will need to validate entries\n",
    "val_counts[1]"
   ]
  },
  {
   "cell_type": "code",
   "execution_count": 17,
   "id": "a5aa9d58",
   "metadata": {},
   "outputs": [
    {
     "data": {
      "text/plain": [
       "SUSP_RACE\n",
       "BLACK                             0.368214\n",
       "UNKNOWN                           0.273142\n",
       "WHITE HISPANIC                    0.167467\n",
       "WHITE                             0.103600\n",
       "BLACK HISPANIC                    0.051784\n",
       "ASIAN / PACIFIC ISLANDER          0.032967\n",
       "AMERICAN INDIAN/ALASKAN NATIVE    0.002824\n",
       "OTHER                             0.000002\n",
       "Name: proportion, dtype: float64"
      ]
     },
     "execution_count": 17,
     "metadata": {},
     "output_type": "execute_result"
    }
   ],
   "source": [
    "# Can impute using UNKNOWN\n",
    "val_counts[2]"
   ]
  },
  {
   "cell_type": "code",
   "execution_count": 18,
   "id": "0a72996e",
   "metadata": {},
   "outputs": [
    {
     "data": {
      "text/plain": [
       "SUSP_SEX\n",
       "M    0.616076\n",
       "U    0.195583\n",
       "F    0.188341\n",
       "Name: proportion, dtype: float64"
      ]
     },
     "execution_count": 18,
     "metadata": {},
     "output_type": "execute_result"
    }
   ],
   "source": [
    "# Can impute using U = Unknown\n",
    "val_counts[3]"
   ]
  },
  {
   "cell_type": "code",
   "execution_count": 19,
   "id": "ae0ef2e8",
   "metadata": {},
   "outputs": [
    {
     "data": {
      "text/plain": [
       "VIC_AGE_GROUP\n",
       "25-44      4.077924e-01\n",
       "45-64      2.113687e-01\n",
       "UNKNOWN    1.543798e-01\n",
       "18-24      1.239340e-01\n",
       "<18        5.736651e-02\n",
       "               ...     \n",
       "650        1.371604e-07\n",
       "213        1.371604e-07\n",
       "1480       1.371604e-07\n",
       "1353       1.371604e-07\n",
       "-33        1.371604e-07\n",
       "Name: proportion, Length: 283, dtype: float64"
      ]
     },
     "execution_count": 19,
     "metadata": {},
     "output_type": "execute_result"
    }
   ],
   "source": [
    "# Can impute using UNKNOWN, note that -33 is not a good value, will need to validate entries\n",
    "val_counts[4]"
   ]
  },
  {
   "cell_type": "code",
   "execution_count": 20,
   "id": "c38b1cba",
   "metadata": {},
   "outputs": [],
   "source": [
    "# Impute values\n",
    "df[moderately_missing_index[0]] = df[moderately_missing_index[0]].fillna(df[moderately_missing_index[0]].mode()[0])\n",
    "df[moderately_missing_index[1]] = df[moderately_missing_index[1]].fillna('UNKNOWN')\n",
    "df[moderately_missing_index[2]] = df[moderately_missing_index[2]].fillna('UNKNOWN')\n",
    "df[moderately_missing_index[3]] = df[moderately_missing_index[3]].fillna('U')\n",
    "df[moderately_missing_index[4]] = df[moderately_missing_index[4]].fillna('UNKNOWN')"
   ]
  },
  {
   "cell_type": "code",
   "execution_count": 21,
   "id": "109adab7",
   "metadata": {},
   "outputs": [
    {
     "data": {
      "text/plain": [
       "ADDR_PCT_CD         0.000034\n",
       "OFNS_DESC           0.002118\n",
       "PD_CD               0.000842\n",
       "PD_DESC             0.000842\n",
       "CRM_ATPT_CPTD_CD    0.000019\n",
       "BORO_NM             0.000884\n",
       "PREM_TYP_DESC       0.004326\n",
       "PATROL_BORO         0.000023\n",
       "VIC_RACE            0.000075\n",
       "VIC_SEX             0.000035\n",
       "dtype: float64"
      ]
     },
     "execution_count": 21,
     "metadata": {},
     "output_type": "execute_result"
    }
   ],
   "source": [
    "# The rest of the missing values represent tiny amounts of the overall data\n",
    "# Rather than introduce biases via imputation, we will drop these records\n",
    "low_missing = missing_ratios[(missing_ratios <= 0.1) & (missing_ratios > 0)]\n",
    "low_missing_index = low_missing.index.tolist()\n",
    "low_missing"
   ]
  },
  {
   "cell_type": "code",
   "execution_count": 22,
   "id": "501f4de1",
   "metadata": {},
   "outputs": [],
   "source": [
    "# Drop missing values\n",
    "for c in low_missing_index:\n",
    "    df = df[~df[c].isnull()]"
   ]
  },
  {
   "cell_type": "code",
   "execution_count": 23,
   "id": "78a5e17f",
   "metadata": {},
   "outputs": [
    {
     "data": {
      "text/plain": [
       "CMPLNT_NUM           0\n",
       "CMPLNT_FR_DT         0\n",
       "CMPLNT_FR_TM         0\n",
       "ADDR_PCT_CD          0\n",
       "RPT_DT               0\n",
       "KY_CD                0\n",
       "OFNS_DESC            0\n",
       "PD_CD                0\n",
       "PD_DESC              0\n",
       "CRM_ATPT_CPTD_CD     0\n",
       "LAW_CAT_CD           0\n",
       "BORO_NM              0\n",
       "LOC_OF_OCCUR_DESC    0\n",
       "PREM_TYP_DESC        0\n",
       "JURIS_DESC           0\n",
       "JURISDICTION_CODE    0\n",
       "SUSP_AGE_GROUP       0\n",
       "SUSP_RACE            0\n",
       "SUSP_SEX             0\n",
       "Latitude             0\n",
       "Longitude            0\n",
       "PATROL_BORO          0\n",
       "VIC_AGE_GROUP        0\n",
       "VIC_RACE             0\n",
       "VIC_SEX              0\n",
       "dtype: int64"
      ]
     },
     "execution_count": 23,
     "metadata": {},
     "output_type": "execute_result"
    }
   ],
   "source": [
    "df.isnull().sum()"
   ]
  },
  {
   "cell_type": "code",
   "execution_count": 24,
   "id": "859d4d43",
   "metadata": {},
   "outputs": [
    {
     "name": "stdout",
     "output_type": "stream",
     "text": [
      "Data Loss: 0.792 %\n"
     ]
    }
   ],
   "source": [
    "# Data loss after all above cleaning\n",
    "print(f'Data Loss: {(100 * (8914838 - len(df.index)) / 8914838):.3f} %')"
   ]
  },
  {
   "cell_type": "markdown",
   "id": "456e3881",
   "metadata": {},
   "source": [
    "## Data Validation and Type Conversion"
   ]
  },
  {
   "cell_type": "code",
   "execution_count": 25,
   "id": "ac46c2f4",
   "metadata": {},
   "outputs": [
    {
     "data": {
      "text/plain": [
       "Index(['CMPLNT_NUM', 'CMPLNT_FR_DT', 'CMPLNT_FR_TM', 'ADDR_PCT_CD', 'RPT_DT',\n",
       "       'KY_CD', 'OFNS_DESC', 'PD_CD', 'PD_DESC', 'CRM_ATPT_CPTD_CD',\n",
       "       'LAW_CAT_CD', 'BORO_NM', 'LOC_OF_OCCUR_DESC', 'PREM_TYP_DESC',\n",
       "       'JURIS_DESC', 'JURISDICTION_CODE', 'SUSP_AGE_GROUP', 'SUSP_RACE',\n",
       "       'SUSP_SEX', 'Latitude', 'Longitude', 'PATROL_BORO', 'VIC_AGE_GROUP',\n",
       "       'VIC_RACE', 'VIC_SEX'],\n",
       "      dtype='object')"
      ]
     },
     "execution_count": 25,
     "metadata": {},
     "output_type": "execute_result"
    }
   ],
   "source": [
    "df.columns"
   ]
  },
  {
   "cell_type": "code",
   "execution_count": 26,
   "id": "cc90aaf7",
   "metadata": {},
   "outputs": [
    {
     "data": {
      "text/plain": [
       "array([1010, 1011, 1012, 1013, 1015, 1016, 1017, 1018, 1019, 1020, 1021,\n",
       "       1022, 1023, 1025, 1026, 1027, 1028, 1029, 1900, 1905, 1906, 1908,\n",
       "       1909, 1910, 1911, 1912, 1913, 1914, 1915, 1916, 1917, 1918, 1919,\n",
       "       1920, 1921, 1922, 1923, 1928, 1929, 1930, 1938, 1940, 1941, 1942,\n",
       "       1945, 1946, 1947, 1948, 1949, 1950, 1951, 1954, 1955, 1956, 1957,\n",
       "       1958, 1959, 1960, 1961, 1962, 1964, 1965, 1966, 1967, 1968, 1969,\n",
       "       1970, 1971, 1972, 1973, 1974, 1975, 1976, 1977, 1978, 1979, 1980,\n",
       "       1981, 1982, 1983, 1984, 1985, 1986, 1987, 1988, 1989, 1990, 1991,\n",
       "       1992, 1993, 1994, 1995, 1996, 1997, 1998, 1999, 2000, 2001, 2002,\n",
       "       2003, 2004, 2005, 2006, 2007, 2008, 2009, 2010, 2011, 2012, 2013,\n",
       "       2014, 2015, 2016, 2017, 2018, 2019, 2020, 2021, 2022, 2023])"
      ]
     },
     "execution_count": 26,
     "metadata": {},
     "output_type": "execute_result"
    }
   ],
   "source": [
    "# Data runs from 2006 to 2023 according to the official documentation\n",
    "# Difficult to tell if the bad years correspond to mistyped millenium or century\n",
    "years = df.CMPLNT_FR_DT.apply(lambda x: int(x[-4:])).unique()\n",
    "years.sort()\n",
    "years"
   ]
  },
  {
   "cell_type": "code",
   "execution_count": 27,
   "id": "cb504466",
   "metadata": {},
   "outputs": [
    {
     "data": {
      "text/plain": [
       "0.002298326304670757"
      ]
     },
     "execution_count": 27,
     "metadata": {},
     "output_type": "execute_result"
    }
   ],
   "source": [
    "# Dropping the data before 2006 only loses 0.2% of the data\n",
    "len(df.loc[df.CMPLNT_FR_DT.apply(lambda x: int(x[-4:])) < 2006].index) / len(df.index)"
   ]
  },
  {
   "cell_type": "code",
   "execution_count": 28,
   "id": "8b8e3f1a",
   "metadata": {},
   "outputs": [],
   "source": [
    "# Drop data and convert date to datetime data type\n",
    "df = df.loc[df.CMPLNT_FR_DT.apply(lambda x: int(x[-4:])) >= 2006]\n",
    "df.CMPLNT_FR_DT = pd.to_datetime(df.CMPLNT_FR_DT)\n",
    "df.RPT_DT = pd.to_datetime(df.RPT_DT)"
   ]
  },
  {
   "cell_type": "code",
   "execution_count": 29,
   "id": "d0b69613",
   "metadata": {},
   "outputs": [],
   "source": [
    "# Change time data to datetime and extract time to verify proper formatting (data type will not change)\n",
    "df.CMPLNT_FR_TM = pd.to_datetime(df.CMPLNT_FR_TM, format = '%H:%M:%S').dt.time"
   ]
  },
  {
   "cell_type": "code",
   "execution_count": 30,
   "id": "537206ad",
   "metadata": {},
   "outputs": [
    {
     "data": {
      "text/plain": [
       "{116: ['FELONY SEX CRIMES', 'SEX CRIMES'],\n",
       " 120: ['CHILD ABANDONMENT/NON SUPPORT', 'ENDAN WELFARE INCOMP'],\n",
       " 124: ['KIDNAPPING',\n",
       "  'KIDNAPPING & RELATED OFFENSES',\n",
       "  'KIDNAPPING AND RELATED OFFENSES'],\n",
       " 125: ['NYS LAWS-UNCLASSIFIED FELONY',\n",
       "  'OTHER STATE LAWS (NON PENAL LA',\n",
       "  'VEHICLE AND TRAFFIC LAWS'],\n",
       " 343: ['OTHER OFFENSES RELATED TO THEF', 'THEFT OF SERVICES'],\n",
       " 345: ['ENDAN WELFARE INCOMP', 'OFFENSES RELATED TO CHILDREN'],\n",
       " 364: ['AGRICULTURE & MRKTS LAW-UNCLASSIFIED',\n",
       "  'OTHER STATE LAWS (NON PENAL LA',\n",
       "  'OTHER STATE LAWS (NON PENAL LAW)'],\n",
       " 677: ['NYS LAWS-UNCLASSIFIED VIOLATION', 'OTHER STATE LAWS']}"
      ]
     },
     "execution_count": 30,
     "metadata": {},
     "output_type": "execute_result"
    }
   ],
   "source": [
    "# A number of offense codes have multiple descriptions\n",
    "from collections import defaultdict\n",
    "def multiple_descriptions(code_col, desc_col):\n",
    "    index = df[[code_col, desc_col]].value_counts().sort_index().index\n",
    "    dict_ = defaultdict(list)\n",
    "    \n",
    "    for code, desc in index:\n",
    "        dict_[code].append(desc)\n",
    "        \n",
    "    multi_dict = {k: v for k, v in dict_.items() if len(v) > 1}\n",
    "\n",
    "    return multi_dict\n",
    "\n",
    "multi_ky_ofns = multiple_descriptions('KY_CD', 'OFNS_DESC')\n",
    "multi_ky_ofns"
   ]
  },
  {
   "cell_type": "code",
   "execution_count": 31,
   "id": "5447cff1",
   "metadata": {},
   "outputs": [],
   "source": [
    "# Replace the descriptions using self-chosen mapping\n",
    "def replace_description(code_desc_dict, index_map):\n",
    "    for kv, ix in list(zip(list(code_desc_dict.items()), index_map)):\n",
    "        df.loc[df.KY_CD == kv[0], 'OFNS_DESC'] = kv[1][ix]\n",
    "        \n",
    "    return\n",
    "\n",
    "index_map = [1, 0, 0, 2, 0, 1, 2, 1]\n",
    "replace_description(multi_ky_ofns, index_map)"
   ]
  },
  {
   "cell_type": "code",
   "execution_count": 32,
   "id": "6fd28340",
   "metadata": {},
   "outputs": [
    {
     "data": {
      "text/plain": [
       "{}"
      ]
     },
     "execution_count": 32,
     "metadata": {},
     "output_type": "execute_result"
    }
   ],
   "source": [
    "# Checking the same for PD_CD and PD_DESC - only one description per code\n",
    "multi_pd_desc = multiple_descriptions('PD_CD', 'PD_DESC')\n",
    "multi_pd_desc"
   ]
  },
  {
   "cell_type": "code",
   "execution_count": 33,
   "id": "4e54c45c",
   "metadata": {},
   "outputs": [
    {
     "data": {
      "text/plain": [
       "{}"
      ]
     },
     "execution_count": 33,
     "metadata": {},
     "output_type": "execute_result"
    }
   ],
   "source": [
    "# Checking the same for JURISDICTION_CODE and JURIS_DESC - only one description per code\n",
    "multi_pd_desc = multiple_descriptions('JURISDICTION_CODE', 'JURIS_DESC')\n",
    "multi_pd_desc"
   ]
  },
  {
   "cell_type": "code",
   "execution_count": 34,
   "id": "9e9ad0d5",
   "metadata": {},
   "outputs": [],
   "source": [
    "# According to maps, NY longitudes should be between -74.27 and -73.68, and latitudes between 40.49 and 40.92\n",
    "df = df[(df.Latitude >= 40.49) & (df.Latitude <= 40.92) & (df.Longitude >= -74.27) & (df.Longitude < -73.68)]"
   ]
  },
  {
   "cell_type": "code",
   "execution_count": 35,
   "id": "82f8e8c1",
   "metadata": {},
   "outputs": [
    {
     "data": {
      "text/plain": [
       "array(['UNKNOWN', '25-44', '18-24', '45-64', '<18', '65+', '216', '171',\n",
       "       '522', '205', '245', '455', '222', '175', '533', '546', '1919',\n",
       "       '1956', '3334', '3131', '813', '1975', '425', '375', '939', '505',\n",
       "       '537', '495', '3636', '521', '165', '940', '170', '545', '535',\n",
       "       '530', '155', '1981', '324', '936', '3434', '922', '536', '325',\n",
       "       '180', '334', '395', '295', '346', '582', '486', '528', '285',\n",
       "       '529', '2121', '308', '385', '225', '952', '246', '265', '235',\n",
       "       '2020', '185', '456', '625', '255', '335', '808', '934', '925',\n",
       "       '711', '196', '921', '485', '525', '810', '914', '517', '3435',\n",
       "       '445', '548', '405', '2927', '655', '305', '160', '540', '315',\n",
       "       '2223', '354', '2525', '915', '565', '626', '355', '635', '518',\n",
       "       '275', '3535', '164', '1818', '292', '2828', '532', '555', '435',\n",
       "       '1616', '454', '2530', '32032', '190', '4040', '1515', '296',\n",
       "       '2424', '3030', '3735', '1976', '534', '639', '416', '538', '229',\n",
       "       '215', '708', '228', '5049', '938', '1953', '2727', '1007', '231',\n",
       "       '256', '623', '946', '972', '930', '932', '945', '2009', '931',\n",
       "       '917', '937', '949', '941', '1009', '933', '2010', '928', '999',\n",
       "       '924', '2011', '1052', '929', '935', '980', '2012', '1011', '900',\n",
       "       '912', '951', '1012', '2013', '966', '944', '965', '1014', '1032',\n",
       "       '2014', '902', '959', '1046', '1013', '352', '1004', '2015', '955',\n",
       "       '-948', '-2', '920', '-49', '-65', '2016', '-54', '1932', '-965',\n",
       "       '1016', '-969', '-975', '327', '-974', '926', '-955', '-83',\n",
       "       '-979', '-67', '923', '1017', '2017', '942', '-960', '-72', '-981',\n",
       "       '1053', '-968', '927', '-953', '1933', '-42', '-972', '-971',\n",
       "       '1018', '2018', '-63', '-978', '948', '1967', '-80', '-939',\n",
       "       '-941', '954', '-964', '-973', '2019', '947', '1019', '-64',\n",
       "       '-966', '-1', '-977', '-962', '-71', '-12', '-928', '-942', '1020',\n",
       "       '1925', '2021', '-946', '953', '-69', '-947', '-60', '-33', '2022',\n",
       "       '-6', '-66', '956', '-10', '-5962', '-3', '-74', '-76', '-47',\n",
       "       '-961', '-951', '-55', '2023', '-62', '-956', '1022', '1023',\n",
       "       '-963', '964', '-976', '-5'], dtype=object)"
      ]
     },
     "execution_count": 35,
     "metadata": {},
     "output_type": "execute_result"
    }
   ],
   "source": [
    "# Age group information has negative values and nonsensical values\n",
    "df.SUSP_AGE_GROUP.unique()"
   ]
  },
  {
   "cell_type": "code",
   "execution_count": 36,
   "id": "97fb38d4",
   "metadata": {},
   "outputs": [
    {
     "data": {
      "text/plain": [
       "array(['UNKNOWN', '45-64', '18-24', '65+', '25-44', '<18', '924', '342',\n",
       "       '944', '741', '807', '469', '318', '159', '942', '208', '955',\n",
       "       '808', '3642', '949', '930', '1068', '939', '507', '260', '895',\n",
       "       '809', '946', '919', '791', '158', '926', '929', '323', '921',\n",
       "       '1553', '345', '188', '933', '927', '938', '11210', '838', '308',\n",
       "       '623', '912', '334', '980', '458', '936', '708', '422', '454',\n",
       "       '932', '908', '900', '922', '806', '858', '707', '961', '969',\n",
       "       '925', '928', '1900', '960', '958', '250', '172', '910', '935',\n",
       "       '1320', '160', '953', '152', '2006', '390', '917', '964', '943',\n",
       "       '151', '509', '886', '551', '340', '500', '184', '909', '811',\n",
       "       '526', '901', '10622', '711', '1957', '508', '2044', '427', '688',\n",
       "       '2211', '174', '945', '913', '914', '153', '1921', '918', '315',\n",
       "       '297', '321', '923', '1115', '395', '2125', '310', '562', '520',\n",
       "       '650', '959', '213', '1480', '1353', '812', '951', '359', '978',\n",
       "       '937', '1972', '1951', '737', '407', '2007', '10308', '1445',\n",
       "       '1642', '595', '931', '940', '1590', '331', '3019', '963', '962',\n",
       "       '10451', '1221', '200', '1955', '309', '979', '1230', '710', '941',\n",
       "       '1963', '420', '950', '1003', '957', '934', '947', '956', '916',\n",
       "       '948', '981', '954', '952', '999', '915', '971', '970', '967',\n",
       "       '920', '911', '966', '1011', '1001', '983', '984', '1014', '965',\n",
       "       '-948', '-939', '-884', '-39', '-902', '-48', '-7', '-971', '1013',\n",
       "       '-37', '-975', '-63', '-970', '-72', '-981', '-945', '-32', '-52',\n",
       "       '-45', '-973', '-40', '-972', '-70', '-2', '-61', '977', '-1',\n",
       "       '-49', '-931', '-65', '-60', '-55', '-978', '-966', '-959', '-936',\n",
       "       '-73', '-938', '-934', '1012', '-937', '-980', '-962', '-36',\n",
       "       '-81', '-53', '-3', '-964', '-950', '-955', '-940', '-942', '-956',\n",
       "       '-67', '-76', '-59', '-974', '-43', '-51', '-968', '972', '-5',\n",
       "       '-943', '-952', '1017', '-4', '-958', '-71', '-56', '-954', '-961',\n",
       "       '-967', '-69', '1018', '-50', '-946', '-31', '1016', '-965',\n",
       "       '-963', '-935', '-960', '-62', '-921', '-27', '-6', '-57', '-11',\n",
       "       '-30', '1022', '1023', '-58', '-929', '-64', '1020', '-953',\n",
       "       '-932', '-10', '-33'], dtype=object)"
      ]
     },
     "execution_count": 36,
     "metadata": {},
     "output_type": "execute_result"
    }
   ],
   "source": [
    "# Same for the victim age group values\n",
    "df.VIC_AGE_GROUP.unique()"
   ]
  },
  {
   "cell_type": "code",
   "execution_count": 37,
   "id": "e0a29aaa",
   "metadata": {},
   "outputs": [],
   "source": [
    "# Convert nonsenical values to unknown\n",
    "valid_age_ranges = ['UNKNOWN', '<18', '18-24', '25-44', '45-64', '65+']\n",
    "\n",
    "df.SUSP_AGE_GROUP = df.SUSP_AGE_GROUP.apply(lambda x: 'UNKNOWN' if not any(x in y for y in valid_age_ranges) else x)\n",
    "df.VIC_AGE_GROUP = df.VIC_AGE_GROUP.apply(lambda x: 'UNKNOWN' if not any(x in y for y in valid_age_ranges) else x)"
   ]
  },
  {
   "cell_type": "code",
   "execution_count": 38,
   "id": "85595e4b",
   "metadata": {},
   "outputs": [],
   "source": [
    "# Drop columns that are not interesting for our intended use\n",
    "# Location of occurrence description says whether a crime happened inside or outside\n",
    "# PREM_TYP_DESC refers to the type of abode (apartment, store, etc.)\n",
    "# PATROL_BORO is slightly different but mostly the same as BORO_NM which can join on other datasets better\n",
    "df.drop(['LOC_OF_OCCUR_DESC', 'PREM_TYP_DESC', 'PATROL_BORO'], axis = 1, inplace = True)"
   ]
  },
  {
   "cell_type": "code",
   "execution_count": 39,
   "id": "c8f840e6",
   "metadata": {},
   "outputs": [],
   "source": [
    "# Define columns for type conversions\n",
    "float_to_int_categorical = ['CMPLNT_NUM', 'ADDR_PCT_CD', 'KY_CD', 'PD_CD', 'JURISDICTION_CODE']\n",
    "str_to_categorical = ['OFNS_DESC', 'PD_DESC', 'CRM_ATPT_CPTD_CD', 'LAW_CAT_CD', 'BORO_NM',\n",
    "                      'JURIS_DESC', 'SUSP_AGE_GROUP', 'SUSP_RACE', 'SUSP_SEX',\n",
    "                      'VIC_AGE_GROUP', 'VIC_RACE', 'VIC_SEX']\n",
    "\n",
    "# Perform type conversions\n",
    "for c in float_to_int_categorical:\n",
    "    df[c] = df[c].astype(int).astype('category')\n",
    "    \n",
    "for c in str_to_categorical:\n",
    "    df[c] = df[c].astype('category')"
   ]
  },
  {
   "cell_type": "code",
   "execution_count": 40,
   "id": "20942504",
   "metadata": {},
   "outputs": [
    {
     "name": "stdout",
     "output_type": "stream",
     "text": [
      "<class 'pandas.core.frame.DataFrame'>\n",
      "Index: 8823925 entries, 8 to 8914837\n",
      "Data columns (total 22 columns):\n",
      " #   Column             Dtype         \n",
      "---  ------             -----         \n",
      " 0   CMPLNT_NUM         category      \n",
      " 1   CMPLNT_FR_DT       datetime64[ns]\n",
      " 2   CMPLNT_FR_TM       object        \n",
      " 3   ADDR_PCT_CD        category      \n",
      " 4   RPT_DT             datetime64[ns]\n",
      " 5   KY_CD              category      \n",
      " 6   OFNS_DESC          category      \n",
      " 7   PD_CD              category      \n",
      " 8   PD_DESC            category      \n",
      " 9   CRM_ATPT_CPTD_CD   category      \n",
      " 10  LAW_CAT_CD         category      \n",
      " 11  BORO_NM            category      \n",
      " 12  JURIS_DESC         category      \n",
      " 13  JURISDICTION_CODE  category      \n",
      " 14  SUSP_AGE_GROUP     category      \n",
      " 15  SUSP_RACE          category      \n",
      " 16  SUSP_SEX           category      \n",
      " 17  Latitude           float64       \n",
      " 18  Longitude          float64       \n",
      " 19  VIC_AGE_GROUP      category      \n",
      " 20  VIC_RACE           category      \n",
      " 21  VIC_SEX            category      \n",
      "dtypes: category(17), datetime64[ns](2), float64(2), object(1)\n",
      "memory usage: 914.4+ MB\n"
     ]
    }
   ],
   "source": [
    "df.info()"
   ]
  },
  {
   "cell_type": "code",
   "execution_count": 41,
   "id": "37a30942",
   "metadata": {},
   "outputs": [
    {
     "name": "stderr",
     "output_type": "stream",
     "text": [
      "/tmp/ipykernel_25100/3610014279.py:2: DtypeWarning: Columns (0) have mixed types. Specify dtype option on import or set low_memory=False.\n",
      "  original_df = pd.read_csv(complaint_data_csv)\n"
     ]
    },
    {
     "name": "stdout",
     "output_type": "stream",
     "text": [
      "Total Data Loss: 1.020 %\n",
      "Total Memory Saved: 1.43 GB\n"
     ]
    }
   ],
   "source": [
    "# Load original data to compare loss of data and memory saved\n",
    "original_df = pd.read_csv(complaint_data_csv)\n",
    "print(f'Total Data Loss: {(100 * (len(original_df.index) - len(df.index)) / len(original_df.index)):.3f} %')\n",
    "print(f'Total Memory Saved: {(original_df.memory_usage().sum() - df.memory_usage().sum()) / (1024 ** 3):.2f} GB')"
   ]
  },
  {
   "cell_type": "code",
   "execution_count": 42,
   "id": "0afc900e",
   "metadata": {},
   "outputs": [],
   "source": [
    "# Write cleaned data to parquet file\n",
    "df.to_parquet('../data/cleaned/complaint_data_historic_cleaned.parquet.gz', index = False, compression = 'gzip')"
   ]
  }
 ],
 "metadata": {
  "kernelspec": {
   "display_name": "Python 3 (ipykernel)",
   "language": "python",
   "name": "python3"
  },
  "language_info": {
   "codemirror_mode": {
    "name": "ipython",
    "version": 3
   },
   "file_extension": ".py",
   "mimetype": "text/x-python",
   "name": "python",
   "nbconvert_exporter": "python",
   "pygments_lexer": "ipython3",
   "version": "3.8.10"
  }
 },
 "nbformat": 4,
 "nbformat_minor": 5
}
