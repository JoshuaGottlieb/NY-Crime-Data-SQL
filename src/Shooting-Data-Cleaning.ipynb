{
 "cells": [
  {
   "cell_type": "markdown",
   "id": "442bdba3",
   "metadata": {},
   "source": [
    "## Load Libraries and Data"
   ]
  },
  {
   "cell_type": "code",
   "execution_count": 1,
   "id": "76ff19e6",
   "metadata": {},
   "outputs": [],
   "source": [
    "import numpy as np\n",
    "import pandas as pd\n",
    "import modules.cleaning_utils as cut"
   ]
  },
  {
   "cell_type": "code",
   "execution_count": 2,
   "id": "e452c008",
   "metadata": {},
   "outputs": [],
   "source": [
    "shooting_data_csv = '../data/raw/NYPD_Shooting_Incident_Data__Historic__20241014.csv'"
   ]
  },
  {
   "cell_type": "code",
   "execution_count": 3,
   "id": "3ec08d00",
   "metadata": {},
   "outputs": [
    {
     "data": {
      "text/html": [
       "<div>\n",
       "<style scoped>\n",
       "    .dataframe tbody tr th:only-of-type {\n",
       "        vertical-align: middle;\n",
       "    }\n",
       "\n",
       "    .dataframe tbody tr th {\n",
       "        vertical-align: top;\n",
       "    }\n",
       "\n",
       "    .dataframe thead th {\n",
       "        text-align: right;\n",
       "    }\n",
       "</style>\n",
       "<table border=\"1\" class=\"dataframe\">\n",
       "  <thead>\n",
       "    <tr style=\"text-align: right;\">\n",
       "      <th></th>\n",
       "      <th>INCIDENT_KEY</th>\n",
       "      <th>OCCUR_DATE</th>\n",
       "      <th>OCCUR_TIME</th>\n",
       "      <th>BORO</th>\n",
       "      <th>LOC_OF_OCCUR_DESC</th>\n",
       "      <th>PRECINCT</th>\n",
       "      <th>JURISDICTION_CODE</th>\n",
       "      <th>LOC_CLASSFCTN_DESC</th>\n",
       "      <th>LOCATION_DESC</th>\n",
       "      <th>STATISTICAL_MURDER_FLAG</th>\n",
       "      <th>...</th>\n",
       "      <th>PERP_SEX</th>\n",
       "      <th>PERP_RACE</th>\n",
       "      <th>VIC_AGE_GROUP</th>\n",
       "      <th>VIC_SEX</th>\n",
       "      <th>VIC_RACE</th>\n",
       "      <th>X_COORD_CD</th>\n",
       "      <th>Y_COORD_CD</th>\n",
       "      <th>Latitude</th>\n",
       "      <th>Longitude</th>\n",
       "      <th>Lon_Lat</th>\n",
       "    </tr>\n",
       "  </thead>\n",
       "  <tbody>\n",
       "    <tr>\n",
       "      <th>0</th>\n",
       "      <td>244608249</td>\n",
       "      <td>05/05/2022</td>\n",
       "      <td>00:10:00</td>\n",
       "      <td>MANHATTAN</td>\n",
       "      <td>INSIDE</td>\n",
       "      <td>14</td>\n",
       "      <td>0.0</td>\n",
       "      <td>COMMERCIAL</td>\n",
       "      <td>VIDEO STORE</td>\n",
       "      <td>True</td>\n",
       "      <td>...</td>\n",
       "      <td>M</td>\n",
       "      <td>BLACK</td>\n",
       "      <td>25-44</td>\n",
       "      <td>M</td>\n",
       "      <td>BLACK</td>\n",
       "      <td>986050.000</td>\n",
       "      <td>214231.000000</td>\n",
       "      <td>40.754692</td>\n",
       "      <td>-73.993500</td>\n",
       "      <td>POINT (-73.9935 40.754692)</td>\n",
       "    </tr>\n",
       "    <tr>\n",
       "      <th>1</th>\n",
       "      <td>247542571</td>\n",
       "      <td>07/04/2022</td>\n",
       "      <td>22:20:00</td>\n",
       "      <td>BRONX</td>\n",
       "      <td>OUTSIDE</td>\n",
       "      <td>48</td>\n",
       "      <td>0.0</td>\n",
       "      <td>STREET</td>\n",
       "      <td>(null)</td>\n",
       "      <td>True</td>\n",
       "      <td>...</td>\n",
       "      <td>(null)</td>\n",
       "      <td>(null)</td>\n",
       "      <td>18-24</td>\n",
       "      <td>M</td>\n",
       "      <td>BLACK</td>\n",
       "      <td>1016802.000</td>\n",
       "      <td>250581.000000</td>\n",
       "      <td>40.854402</td>\n",
       "      <td>-73.882330</td>\n",
       "      <td>POINT (-73.88233 40.854402)</td>\n",
       "    </tr>\n",
       "    <tr>\n",
       "      <th>2</th>\n",
       "      <td>84967535</td>\n",
       "      <td>05/27/2012</td>\n",
       "      <td>19:35:00</td>\n",
       "      <td>QUEENS</td>\n",
       "      <td>NaN</td>\n",
       "      <td>103</td>\n",
       "      <td>0.0</td>\n",
       "      <td>NaN</td>\n",
       "      <td>NaN</td>\n",
       "      <td>False</td>\n",
       "      <td>...</td>\n",
       "      <td>NaN</td>\n",
       "      <td>NaN</td>\n",
       "      <td>18-24</td>\n",
       "      <td>M</td>\n",
       "      <td>BLACK</td>\n",
       "      <td>1048632.000</td>\n",
       "      <td>198262.000000</td>\n",
       "      <td>40.710634</td>\n",
       "      <td>-73.767773</td>\n",
       "      <td>POINT (-73.76777349199995 40.71063412500007)</td>\n",
       "    </tr>\n",
       "    <tr>\n",
       "      <th>3</th>\n",
       "      <td>202853370</td>\n",
       "      <td>09/24/2019</td>\n",
       "      <td>21:00:00</td>\n",
       "      <td>BRONX</td>\n",
       "      <td>NaN</td>\n",
       "      <td>42</td>\n",
       "      <td>0.0</td>\n",
       "      <td>NaN</td>\n",
       "      <td>NaN</td>\n",
       "      <td>False</td>\n",
       "      <td>...</td>\n",
       "      <td>M</td>\n",
       "      <td>UNKNOWN</td>\n",
       "      <td>25-44</td>\n",
       "      <td>M</td>\n",
       "      <td>BLACK</td>\n",
       "      <td>1014493.000</td>\n",
       "      <td>242565.000000</td>\n",
       "      <td>40.832417</td>\n",
       "      <td>-73.890714</td>\n",
       "      <td>POINT (-73.89071440599997 40.832416753000075)</td>\n",
       "    </tr>\n",
       "    <tr>\n",
       "      <th>4</th>\n",
       "      <td>27078636</td>\n",
       "      <td>02/25/2007</td>\n",
       "      <td>21:00:00</td>\n",
       "      <td>BROOKLYN</td>\n",
       "      <td>NaN</td>\n",
       "      <td>83</td>\n",
       "      <td>0.0</td>\n",
       "      <td>NaN</td>\n",
       "      <td>NaN</td>\n",
       "      <td>False</td>\n",
       "      <td>...</td>\n",
       "      <td>M</td>\n",
       "      <td>BLACK</td>\n",
       "      <td>25-44</td>\n",
       "      <td>M</td>\n",
       "      <td>BLACK</td>\n",
       "      <td>1009149.375</td>\n",
       "      <td>190104.703125</td>\n",
       "      <td>40.688443</td>\n",
       "      <td>-73.910219</td>\n",
       "      <td>POINT (-73.91021857399994 40.68844345900004)</td>\n",
       "    </tr>\n",
       "    <tr>\n",
       "      <th>...</th>\n",
       "      <td>...</td>\n",
       "      <td>...</td>\n",
       "      <td>...</td>\n",
       "      <td>...</td>\n",
       "      <td>...</td>\n",
       "      <td>...</td>\n",
       "      <td>...</td>\n",
       "      <td>...</td>\n",
       "      <td>...</td>\n",
       "      <td>...</td>\n",
       "      <td>...</td>\n",
       "      <td>...</td>\n",
       "      <td>...</td>\n",
       "      <td>...</td>\n",
       "      <td>...</td>\n",
       "      <td>...</td>\n",
       "      <td>...</td>\n",
       "      <td>...</td>\n",
       "      <td>...</td>\n",
       "      <td>...</td>\n",
       "      <td>...</td>\n",
       "    </tr>\n",
       "    <tr>\n",
       "      <th>28557</th>\n",
       "      <td>265354835</td>\n",
       "      <td>03/19/2023</td>\n",
       "      <td>23:48:00</td>\n",
       "      <td>BRONX</td>\n",
       "      <td>INSIDE</td>\n",
       "      <td>47</td>\n",
       "      <td>0.0</td>\n",
       "      <td>COMMERCIAL</td>\n",
       "      <td>GROCERY/BODEGA</td>\n",
       "      <td>True</td>\n",
       "      <td>...</td>\n",
       "      <td>M</td>\n",
       "      <td>BLACK</td>\n",
       "      <td>18-24</td>\n",
       "      <td>M</td>\n",
       "      <td>BLACK</td>\n",
       "      <td>1025687.000</td>\n",
       "      <td>268586.000000</td>\n",
       "      <td>40.903785</td>\n",
       "      <td>-73.850098</td>\n",
       "      <td>POINT (-73.850098 40.903785)</td>\n",
       "    </tr>\n",
       "    <tr>\n",
       "      <th>28558</th>\n",
       "      <td>272968931</td>\n",
       "      <td>08/16/2023</td>\n",
       "      <td>02:46:00</td>\n",
       "      <td>BRONX</td>\n",
       "      <td>OUTSIDE</td>\n",
       "      <td>41</td>\n",
       "      <td>0.0</td>\n",
       "      <td>STREET</td>\n",
       "      <td>(null)</td>\n",
       "      <td>False</td>\n",
       "      <td>...</td>\n",
       "      <td>F</td>\n",
       "      <td>BLACK</td>\n",
       "      <td>45-64</td>\n",
       "      <td>M</td>\n",
       "      <td>BLACK</td>\n",
       "      <td>1014639.000</td>\n",
       "      <td>240066.000000</td>\n",
       "      <td>40.825549</td>\n",
       "      <td>-73.890195</td>\n",
       "      <td>POINT (-73.890195 40.825549)</td>\n",
       "    </tr>\n",
       "    <tr>\n",
       "      <th>28559</th>\n",
       "      <td>270489846</td>\n",
       "      <td>06/27/2023</td>\n",
       "      <td>12:27:00</td>\n",
       "      <td>BRONX</td>\n",
       "      <td>INSIDE</td>\n",
       "      <td>41</td>\n",
       "      <td>0.0</td>\n",
       "      <td>DWELLING</td>\n",
       "      <td>MULTI DWELL - APT BUILD</td>\n",
       "      <td>True</td>\n",
       "      <td>...</td>\n",
       "      <td>M</td>\n",
       "      <td>BLACK</td>\n",
       "      <td>25-44</td>\n",
       "      <td>M</td>\n",
       "      <td>BLACK</td>\n",
       "      <td>1012221.000</td>\n",
       "      <td>238552.000000</td>\n",
       "      <td>40.821404</td>\n",
       "      <td>-73.898938</td>\n",
       "      <td>POINT (-73.898938 40.821404)</td>\n",
       "    </tr>\n",
       "    <tr>\n",
       "      <th>28560</th>\n",
       "      <td>271021661</td>\n",
       "      <td>07/08/2023</td>\n",
       "      <td>11:27:00</td>\n",
       "      <td>QUEENS</td>\n",
       "      <td>OUTSIDE</td>\n",
       "      <td>102</td>\n",
       "      <td>0.0</td>\n",
       "      <td>STREET</td>\n",
       "      <td>BEAUTY/NAIL SALON</td>\n",
       "      <td>False</td>\n",
       "      <td>...</td>\n",
       "      <td>M</td>\n",
       "      <td>WHITE HISPANIC</td>\n",
       "      <td>65+</td>\n",
       "      <td>M</td>\n",
       "      <td>ASIAN / PACIFIC ISLANDER</td>\n",
       "      <td>1028856.000</td>\n",
       "      <td>192785.000000</td>\n",
       "      <td>40.695717</td>\n",
       "      <td>-73.839138</td>\n",
       "      <td>POINT (-73.839138 40.695717)</td>\n",
       "    </tr>\n",
       "    <tr>\n",
       "      <th>28561</th>\n",
       "      <td>271818283</td>\n",
       "      <td>07/24/2023</td>\n",
       "      <td>23:38:00</td>\n",
       "      <td>MANHATTAN</td>\n",
       "      <td>OUTSIDE</td>\n",
       "      <td>28</td>\n",
       "      <td>2.0</td>\n",
       "      <td>HOUSING</td>\n",
       "      <td>MULTI DWELL - PUBLIC HOUS</td>\n",
       "      <td>False</td>\n",
       "      <td>...</td>\n",
       "      <td>(null)</td>\n",
       "      <td>(null)</td>\n",
       "      <td>25-44</td>\n",
       "      <td>M</td>\n",
       "      <td>BLACK</td>\n",
       "      <td>997853.000</td>\n",
       "      <td>230889.000000</td>\n",
       "      <td>40.800405</td>\n",
       "      <td>-73.950864</td>\n",
       "      <td>POINT (-73.950864 40.800405)</td>\n",
       "    </tr>\n",
       "  </tbody>\n",
       "</table>\n",
       "<p>28562 rows × 21 columns</p>\n",
       "</div>"
      ],
      "text/plain": [
       "       INCIDENT_KEY  OCCUR_DATE OCCUR_TIME       BORO LOC_OF_OCCUR_DESC  \\\n",
       "0         244608249  05/05/2022   00:10:00  MANHATTAN            INSIDE   \n",
       "1         247542571  07/04/2022   22:20:00      BRONX           OUTSIDE   \n",
       "2          84967535  05/27/2012   19:35:00     QUEENS               NaN   \n",
       "3         202853370  09/24/2019   21:00:00      BRONX               NaN   \n",
       "4          27078636  02/25/2007   21:00:00   BROOKLYN               NaN   \n",
       "...             ...         ...        ...        ...               ...   \n",
       "28557     265354835  03/19/2023   23:48:00      BRONX            INSIDE   \n",
       "28558     272968931  08/16/2023   02:46:00      BRONX           OUTSIDE   \n",
       "28559     270489846  06/27/2023   12:27:00      BRONX            INSIDE   \n",
       "28560     271021661  07/08/2023   11:27:00     QUEENS           OUTSIDE   \n",
       "28561     271818283  07/24/2023   23:38:00  MANHATTAN           OUTSIDE   \n",
       "\n",
       "       PRECINCT  JURISDICTION_CODE LOC_CLASSFCTN_DESC  \\\n",
       "0            14                0.0         COMMERCIAL   \n",
       "1            48                0.0             STREET   \n",
       "2           103                0.0                NaN   \n",
       "3            42                0.0                NaN   \n",
       "4            83                0.0                NaN   \n",
       "...         ...                ...                ...   \n",
       "28557        47                0.0         COMMERCIAL   \n",
       "28558        41                0.0             STREET   \n",
       "28559        41                0.0           DWELLING   \n",
       "28560       102                0.0             STREET   \n",
       "28561        28                2.0            HOUSING   \n",
       "\n",
       "                   LOCATION_DESC  STATISTICAL_MURDER_FLAG  ... PERP_SEX  \\\n",
       "0                    VIDEO STORE                     True  ...        M   \n",
       "1                         (null)                     True  ...   (null)   \n",
       "2                            NaN                    False  ...      NaN   \n",
       "3                            NaN                    False  ...        M   \n",
       "4                            NaN                    False  ...        M   \n",
       "...                          ...                      ...  ...      ...   \n",
       "28557             GROCERY/BODEGA                     True  ...        M   \n",
       "28558                     (null)                    False  ...        F   \n",
       "28559    MULTI DWELL - APT BUILD                     True  ...        M   \n",
       "28560          BEAUTY/NAIL SALON                    False  ...        M   \n",
       "28561  MULTI DWELL - PUBLIC HOUS                    False  ...   (null)   \n",
       "\n",
       "            PERP_RACE VIC_AGE_GROUP VIC_SEX                  VIC_RACE  \\\n",
       "0               BLACK         25-44       M                     BLACK   \n",
       "1              (null)         18-24       M                     BLACK   \n",
       "2                 NaN         18-24       M                     BLACK   \n",
       "3             UNKNOWN         25-44       M                     BLACK   \n",
       "4               BLACK         25-44       M                     BLACK   \n",
       "...               ...           ...     ...                       ...   \n",
       "28557           BLACK         18-24       M                     BLACK   \n",
       "28558           BLACK         45-64       M                     BLACK   \n",
       "28559           BLACK         25-44       M                     BLACK   \n",
       "28560  WHITE HISPANIC           65+       M  ASIAN / PACIFIC ISLANDER   \n",
       "28561          (null)         25-44       M                     BLACK   \n",
       "\n",
       "        X_COORD_CD     Y_COORD_CD   Latitude  Longitude  \\\n",
       "0       986050.000  214231.000000  40.754692 -73.993500   \n",
       "1      1016802.000  250581.000000  40.854402 -73.882330   \n",
       "2      1048632.000  198262.000000  40.710634 -73.767773   \n",
       "3      1014493.000  242565.000000  40.832417 -73.890714   \n",
       "4      1009149.375  190104.703125  40.688443 -73.910219   \n",
       "...            ...            ...        ...        ...   \n",
       "28557  1025687.000  268586.000000  40.903785 -73.850098   \n",
       "28558  1014639.000  240066.000000  40.825549 -73.890195   \n",
       "28559  1012221.000  238552.000000  40.821404 -73.898938   \n",
       "28560  1028856.000  192785.000000  40.695717 -73.839138   \n",
       "28561   997853.000  230889.000000  40.800405 -73.950864   \n",
       "\n",
       "                                             Lon_Lat  \n",
       "0                         POINT (-73.9935 40.754692)  \n",
       "1                        POINT (-73.88233 40.854402)  \n",
       "2       POINT (-73.76777349199995 40.71063412500007)  \n",
       "3      POINT (-73.89071440599997 40.832416753000075)  \n",
       "4       POINT (-73.91021857399994 40.68844345900004)  \n",
       "...                                              ...  \n",
       "28557                   POINT (-73.850098 40.903785)  \n",
       "28558                   POINT (-73.890195 40.825549)  \n",
       "28559                   POINT (-73.898938 40.821404)  \n",
       "28560                   POINT (-73.839138 40.695717)  \n",
       "28561                   POINT (-73.950864 40.800405)  \n",
       "\n",
       "[28562 rows x 21 columns]"
      ]
     },
     "execution_count": 3,
     "metadata": {},
     "output_type": "execute_result"
    }
   ],
   "source": [
    "df = pd.read_csv(shooting_data_csv)\n",
    "df"
   ]
  },
  {
   "cell_type": "code",
   "execution_count": 4,
   "id": "b1d19738",
   "metadata": {},
   "outputs": [],
   "source": [
    "# Convert string ('null') values into nans\n",
    "df = df.replace('(null)', np.nan)\n",
    "\n",
    "# Capture original length and memory usage for later\n",
    "original_length = len(df.index)\n",
    "original_memory_usage = df.memory_usage().sum()"
   ]
  },
  {
   "cell_type": "code",
   "execution_count": 5,
   "id": "20155fc1",
   "metadata": {},
   "outputs": [
    {
     "name": "stdout",
     "output_type": "stream",
     "text": [
      "<class 'pandas.core.frame.DataFrame'>\n",
      "RangeIndex: 28562 entries, 0 to 28561\n",
      "Data columns (total 21 columns):\n",
      " #   Column                   Non-Null Count  Dtype  \n",
      "---  ------                   --------------  -----  \n",
      " 0   INCIDENT_KEY             28562 non-null  int64  \n",
      " 1   OCCUR_DATE               28562 non-null  object \n",
      " 2   OCCUR_TIME               28562 non-null  object \n",
      " 3   BORO                     28562 non-null  object \n",
      " 4   LOC_OF_OCCUR_DESC        2966 non-null   object \n",
      " 5   PRECINCT                 28562 non-null  int64  \n",
      " 6   JURISDICTION_CODE        28560 non-null  float64\n",
      " 7   LOC_CLASSFCTN_DESC       2964 non-null   object \n",
      " 8   LOCATION_DESC            11874 non-null  object \n",
      " 9   STATISTICAL_MURDER_FLAG  28562 non-null  bool   \n",
      " 10  PERP_AGE_GROUP           18077 non-null  object \n",
      " 11  PERP_SEX                 18111 non-null  object \n",
      " 12  PERP_RACE                18111 non-null  object \n",
      " 13  VIC_AGE_GROUP            28562 non-null  object \n",
      " 14  VIC_SEX                  28562 non-null  object \n",
      " 15  VIC_RACE                 28562 non-null  object \n",
      " 16  X_COORD_CD               28562 non-null  float64\n",
      " 17  Y_COORD_CD               28562 non-null  float64\n",
      " 18  Latitude                 28503 non-null  float64\n",
      " 19  Longitude                28503 non-null  float64\n",
      " 20  Lon_Lat                  28503 non-null  object \n",
      "dtypes: bool(1), float64(5), int64(2), object(13)\n",
      "memory usage: 4.4+ MB\n"
     ]
    }
   ],
   "source": [
    "df.info()"
   ]
  },
  {
   "cell_type": "code",
   "execution_count": 6,
   "id": "11df306b",
   "metadata": {},
   "outputs": [],
   "source": [
    "# Dropping columns of little interest\n",
    "# Location descriptions are incomplete and not very useful\n",
    "# X/Y Coord and Lon_Lat are not needed with Latitude and Longitude columns already present\n",
    "df.drop(['LOC_OF_OCCUR_DESC', 'LOC_CLASSFCTN_DESC', 'LOCATION_DESC',\n",
    "         'Y_COORD_CD', 'X_COORD_CD', 'Lon_Lat'], axis = 1, inplace = True)"
   ]
  },
  {
   "cell_type": "markdown",
   "id": "5ced4ccb",
   "metadata": {},
   "source": [
    "## Missing Values"
   ]
  },
  {
   "cell_type": "code",
   "execution_count": 7,
   "id": "fb810955",
   "metadata": {},
   "outputs": [
    {
     "data": {
      "text/plain": [
       "INCIDENT_KEY                   0\n",
       "OCCUR_DATE                     0\n",
       "OCCUR_TIME                     0\n",
       "BORO                           0\n",
       "PRECINCT                       0\n",
       "JURISDICTION_CODE              2\n",
       "STATISTICAL_MURDER_FLAG        0\n",
       "PERP_AGE_GROUP             10485\n",
       "PERP_SEX                   10451\n",
       "PERP_RACE                  10451\n",
       "VIC_AGE_GROUP                  0\n",
       "VIC_SEX                        0\n",
       "VIC_RACE                       0\n",
       "Latitude                      59\n",
       "Longitude                     59\n",
       "dtype: int64"
      ]
     },
     "execution_count": 7,
     "metadata": {},
     "output_type": "execute_result"
    }
   ],
   "source": [
    "df.isnull().sum()"
   ]
  },
  {
   "cell_type": "code",
   "execution_count": 8,
   "id": "8ffa9de2",
   "metadata": {},
   "outputs": [
    {
     "data": {
      "text/plain": [
       "Series([], dtype: float64)"
      ]
     },
     "execution_count": 8,
     "metadata": {},
     "output_type": "execute_result"
    }
   ],
   "source": [
    "# Check for missing columns\n",
    "# Highly missing: > 90% missingness\n",
    "# Moderately missing: 1-90% missingness\n",
    "# Low missing: < 1% missingness\n",
    "highly_missing, moderately_missing, low_missing = cut.calculate_missing_ratios(df)\n",
    "\n",
    "# No columns with high missingness\n",
    "highly_missing"
   ]
  },
  {
   "cell_type": "code",
   "execution_count": 9,
   "id": "96dc04b8",
   "metadata": {},
   "outputs": [
    {
     "data": {
      "text/plain": [
       "PERP_AGE_GROUP    0.367096\n",
       "PERP_SEX          0.365906\n",
       "PERP_RACE         0.365906\n",
       "dtype: float64"
      ]
     },
     "execution_count": 9,
     "metadata": {},
     "output_type": "execute_result"
    }
   ],
   "source": [
    "# Some columns with moderate missingness\n",
    "# All of these columns are age, sex and race columns\n",
    "moderately_missing"
   ]
  },
  {
   "cell_type": "code",
   "execution_count": 10,
   "id": "193cc35f",
   "metadata": {},
   "outputs": [],
   "source": [
    "# Validate age, sex, and race columns, converting invalid values to UNKNOWN or U\n",
    "# Validate all columns while we are at it\n",
    "df = cut.validate_age(df, ['PERP_AGE_GROUP', 'VIC_AGE_GROUP'])\n",
    "df = cut.validate_sex(df, ['PERP_SEX', 'VIC_SEX'])\n",
    "df = cut.validate_race(df, ['PERP_RACE', 'VIC_RACE'])"
   ]
  },
  {
   "cell_type": "code",
   "execution_count": 11,
   "id": "54fd7d29",
   "metadata": {},
   "outputs": [
    {
     "data": {
      "text/plain": [
       "JURISDICTION_CODE    0.000070\n",
       "Latitude             0.002066\n",
       "Longitude            0.002066\n",
       "dtype: float64"
      ]
     },
     "execution_count": 11,
     "metadata": {},
     "output_type": "execute_result"
    }
   ],
   "source": [
    "# Rather than introduce biases via imputation, we will drop these records\n",
    "low_missing"
   ]
  },
  {
   "cell_type": "code",
   "execution_count": 12,
   "id": "7697a0ec",
   "metadata": {},
   "outputs": [],
   "source": [
    "# The rest of the missing values represent tiny amounts of the overall data (< 1% missingness)\n",
    "# Drop missing values\n",
    "low_missing_index = low_missing.index.tolist()\n",
    "\n",
    "for c in low_missing_index:\n",
    "    df = df[~df[c].isnull()]"
   ]
  },
  {
   "cell_type": "code",
   "execution_count": 13,
   "id": "8e20fa96",
   "metadata": {},
   "outputs": [
    {
     "data": {
      "text/plain": [
       "INCIDENT_KEY               0\n",
       "OCCUR_DATE                 0\n",
       "OCCUR_TIME                 0\n",
       "BORO                       0\n",
       "PRECINCT                   0\n",
       "JURISDICTION_CODE          0\n",
       "STATISTICAL_MURDER_FLAG    0\n",
       "PERP_AGE_GROUP             0\n",
       "PERP_SEX                   0\n",
       "PERP_RACE                  0\n",
       "VIC_AGE_GROUP              0\n",
       "VIC_SEX                    0\n",
       "VIC_RACE                   0\n",
       "Latitude                   0\n",
       "Longitude                  0\n",
       "dtype: int64"
      ]
     },
     "execution_count": 13,
     "metadata": {},
     "output_type": "execute_result"
    }
   ],
   "source": [
    "df.isnull().sum()"
   ]
  },
  {
   "cell_type": "code",
   "execution_count": 14,
   "id": "d5d0e1c7",
   "metadata": {},
   "outputs": [
    {
     "name": "stdout",
     "output_type": "stream",
     "text": [
      "Data Loss: 0.214 %\n"
     ]
    }
   ],
   "source": [
    "# Data loss after all above cleaning\n",
    "print(f'Data Loss: {(100 * (original_length - len(df.index)) / original_length):.3f} %')"
   ]
  },
  {
   "cell_type": "markdown",
   "id": "fb802f36",
   "metadata": {},
   "source": [
    "## Data Validation and Type Conversion"
   ]
  },
  {
   "cell_type": "code",
   "execution_count": 15,
   "id": "0cb8abb6",
   "metadata": {},
   "outputs": [],
   "source": [
    "# Data runs from 2006 to 2023 according to the official documentation\n",
    "# Validate dates and convert to datetime\n",
    "df = cut.validate_dates_and_times(df, ['OCCUR_DATE'])\n",
    "\n",
    "# According to maps, NY longitudes should be between -74.27 and -73.68, and latitudes between 40.49 and 40.92\n",
    "df = cut.validate_coordinates(df)"
   ]
  },
  {
   "cell_type": "code",
   "execution_count": 16,
   "id": "b2ef240e",
   "metadata": {},
   "outputs": [],
   "source": [
    "# Define columns for type conversions\n",
    "numeric_col = ['INCIDENT_KEY', 'PRECINCT']\n",
    "object_col = ['BORO', 'PRECINCT', 'PERP_AGE_GROUP', 'PERP_RACE', 'PERP_SEX',\n",
    "              'VIC_AGE_GROUP', 'VIC_RACE', 'VIC_SEX']\n",
    "\n",
    "# Perform type conversions\n",
    "df = cut.convert_to_categorical(df, numeric_col, object_col)"
   ]
  },
  {
   "cell_type": "code",
   "execution_count": 17,
   "id": "3b6ca2ac",
   "metadata": {},
   "outputs": [
    {
     "name": "stdout",
     "output_type": "stream",
     "text": [
      "<class 'pandas.core.frame.DataFrame'>\n",
      "Index: 28501 entries, 0 to 28561\n",
      "Data columns (total 15 columns):\n",
      " #   Column                   Non-Null Count  Dtype         \n",
      "---  ------                   --------------  -----         \n",
      " 0   INCIDENT_KEY             28501 non-null  category      \n",
      " 1   OCCUR_DATE               28501 non-null  datetime64[ns]\n",
      " 2   OCCUR_TIME               28501 non-null  object        \n",
      " 3   BORO                     28501 non-null  category      \n",
      " 4   PRECINCT                 28501 non-null  category      \n",
      " 5   JURISDICTION_CODE        28501 non-null  float64       \n",
      " 6   STATISTICAL_MURDER_FLAG  28501 non-null  bool          \n",
      " 7   PERP_AGE_GROUP           28501 non-null  category      \n",
      " 8   PERP_SEX                 28501 non-null  category      \n",
      " 9   PERP_RACE                28501 non-null  category      \n",
      " 10  VIC_AGE_GROUP            28501 non-null  category      \n",
      " 11  VIC_SEX                  28501 non-null  category      \n",
      " 12  VIC_RACE                 28501 non-null  category      \n",
      " 13  Latitude                 28501 non-null  float64       \n",
      " 14  Longitude                28501 non-null  float64       \n",
      "dtypes: bool(1), category(9), datetime64[ns](1), float64(3), object(1)\n",
      "memory usage: 2.3+ MB\n"
     ]
    }
   ],
   "source": [
    "df.info()"
   ]
  },
  {
   "cell_type": "code",
   "execution_count": 18,
   "id": "8f081c6d",
   "metadata": {},
   "outputs": [
    {
     "name": "stdout",
     "output_type": "stream",
     "text": [
      "Total Data Loss: 0.214 %\n",
      "Total Memory Saved: 2.10 MB\n"
     ]
    }
   ],
   "source": [
    "# Compare loss of data and memory saved\n",
    "print(f'Total Data Loss: {(100 * (original_length - len(df.index)) / original_length):.3f} %')\n",
    "print(f'Total Memory Saved: {(original_memory_usage - df.memory_usage().sum()) / (1024 ** 2):.2f} MB')"
   ]
  },
  {
   "cell_type": "code",
   "execution_count": 19,
   "id": "93cf7f23",
   "metadata": {},
   "outputs": [],
   "source": [
    "# Write cleaned data to parquet file\n",
    "df.to_parquet('../data/cleaned/shooting_data_historic_cleaned.parquet.gz', index = False, compression = 'gzip')"
   ]
  }
 ],
 "metadata": {
  "kernelspec": {
   "display_name": "Python 3 (ipykernel)",
   "language": "python",
   "name": "python3"
  },
  "language_info": {
   "codemirror_mode": {
    "name": "ipython",
    "version": 3
   },
   "file_extension": ".py",
   "mimetype": "text/x-python",
   "name": "python",
   "nbconvert_exporter": "python",
   "pygments_lexer": "ipython3",
   "version": "3.8.10"
  }
 },
 "nbformat": 4,
 "nbformat_minor": 5
}
