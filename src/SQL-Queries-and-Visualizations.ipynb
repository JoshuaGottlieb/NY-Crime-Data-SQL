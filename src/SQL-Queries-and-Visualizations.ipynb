{
 "cells": [
  {
   "cell_type": "code",
   "execution_count": 2,
   "id": "046d4623",
   "metadata": {},
   "outputs": [],
   "source": [
    "import numpy as np\n",
    "import pandas as pd\n",
    "import sqlite3 as sql\n",
    "import matplotlib.pyplot as plt\n",
    "import seaborn as sns"
   ]
  },
  {
   "cell_type": "code",
   "execution_count": 3,
   "id": "543e3b9d",
   "metadata": {},
   "outputs": [],
   "source": [
    "db = '../data/database/NYC_CRIME_DATABASE.db'\n",
    "conn = sql.connect(db)"
   ]
  },
  {
   "cell_type": "code",
   "execution_count": 4,
   "id": "3a70b2e9",
   "metadata": {},
   "outputs": [],
   "source": [
    "# q = '''SELECT ARREST_KEY FROM ARRESTS;'''\n",
    "# pd.read_sql_query(q, conn)"
   ]
  },
  {
   "cell_type": "code",
   "execution_count": 3,
   "id": "0b554bb1",
   "metadata": {},
   "outputs": [
    {
     "data": {
      "text/html": [
       "<div>\n",
       "<style scoped>\n",
       "    .dataframe tbody tr th:only-of-type {\n",
       "        vertical-align: middle;\n",
       "    }\n",
       "\n",
       "    .dataframe tbody tr th {\n",
       "        vertical-align: top;\n",
       "    }\n",
       "\n",
       "    .dataframe thead th {\n",
       "        text-align: right;\n",
       "    }\n",
       "</style>\n",
       "<table border=\"1\" class=\"dataframe\">\n",
       "  <thead>\n",
       "    <tr style=\"text-align: right;\">\n",
       "      <th></th>\n",
       "      <th>CMPLNT_KEY</th>\n",
       "    </tr>\n",
       "  </thead>\n",
       "  <tbody>\n",
       "    <tr>\n",
       "      <th>0</th>\n",
       "      <td>25636218</td>\n",
       "    </tr>\n",
       "    <tr>\n",
       "      <th>1</th>\n",
       "      <td>23364313</td>\n",
       "    </tr>\n",
       "    <tr>\n",
       "      <th>2</th>\n",
       "      <td>25523851</td>\n",
       "    </tr>\n",
       "    <tr>\n",
       "      <th>3</th>\n",
       "      <td>25435616</td>\n",
       "    </tr>\n",
       "    <tr>\n",
       "      <th>4</th>\n",
       "      <td>34143267</td>\n",
       "    </tr>\n",
       "    <tr>\n",
       "      <th>...</th>\n",
       "      <td>...</td>\n",
       "    </tr>\n",
       "    <tr>\n",
       "      <th>8858840</th>\n",
       "      <td>272431385</td>\n",
       "    </tr>\n",
       "    <tr>\n",
       "      <th>8858841</th>\n",
       "      <td>273033152</td>\n",
       "    </tr>\n",
       "    <tr>\n",
       "      <th>8858842</th>\n",
       "      <td>270041815</td>\n",
       "    </tr>\n",
       "    <tr>\n",
       "      <th>8858843</th>\n",
       "      <td>273151416</td>\n",
       "    </tr>\n",
       "    <tr>\n",
       "      <th>8858844</th>\n",
       "      <td>276267757</td>\n",
       "    </tr>\n",
       "  </tbody>\n",
       "</table>\n",
       "<p>8858845 rows × 1 columns</p>\n",
       "</div>"
      ],
      "text/plain": [
       "         CMPLNT_KEY\n",
       "0          25636218\n",
       "1          23364313\n",
       "2          25523851\n",
       "3          25435616\n",
       "4          34143267\n",
       "...             ...\n",
       "8858840   272431385\n",
       "8858841   273033152\n",
       "8858842   270041815\n",
       "8858843   273151416\n",
       "8858844   276267757\n",
       "\n",
       "[8858845 rows x 1 columns]"
      ]
     },
     "execution_count": 3,
     "metadata": {},
     "output_type": "execute_result"
    }
   ],
   "source": [
    "q = '''SELECT CMPLNT_KEY FROM COMPLAINTS;'''\n",
    "pd.read_sql_query(q, conn)"
   ]
  },
  {
   "cell_type": "markdown",
   "id": "021e21cc",
   "metadata": {},
   "source": [
    "### Ratio of Complaints to Arrests per Borough"
   ]
  },
  {
   "cell_type": "code",
   "execution_count": null,
   "id": "4888b422",
   "metadata": {},
   "outputs": [],
   "source": [
    "q = '''\n",
    "SELECT\n",
    "    A.ARREST_KEY,\n",
    "    C.CMPLNT_KEY,\n",
    "    A.BORO\n",
    "FROM ARRESTS A, COMPLAINTS C\n",
    "WHERE A.BORO = C.BORO;\n",
    "'''\n",
    "\n",
    "pd.read_sql_query(q, conn)"
   ]
  },
  {
   "cell_type": "code",
   "execution_count": null,
   "id": "6201d4d7",
   "metadata": {},
   "outputs": [],
   "source": [
    "GROUP BY A.BORO"
   ]
  },
  {
   "cell_type": "code",
   "execution_count": null,
   "id": "74fcf5b8",
   "metadata": {},
   "outputs": [],
   "source": []
  },
  {
   "cell_type": "code",
   "execution_count": null,
   "id": "a2086d66",
   "metadata": {},
   "outputs": [],
   "source": []
  },
  {
   "cell_type": "code",
   "execution_count": null,
   "id": "d71d0861",
   "metadata": {},
   "outputs": [],
   "source": [
    "conn.close()"
   ]
  }
 ],
 "metadata": {
  "kernelspec": {
   "display_name": "Python 3 (ipykernel)",
   "language": "python",
   "name": "python3"
  },
  "language_info": {
   "codemirror_mode": {
    "name": "ipython",
    "version": 3
   },
   "file_extension": ".py",
   "mimetype": "text/x-python",
   "name": "python",
   "nbconvert_exporter": "python",
   "pygments_lexer": "ipython3",
   "version": "3.10.12"
  }
 },
 "nbformat": 4,
 "nbformat_minor": 5
}
