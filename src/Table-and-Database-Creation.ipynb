{
 "cells": [
  {
   "cell_type": "markdown",
   "id": "501e5a7b",
   "metadata": {},
   "source": [
    "## Load Libraries and Data"
   ]
  },
  {
   "cell_type": "code",
   "execution_count": 1,
   "id": "e1a3deb1",
   "metadata": {},
   "outputs": [],
   "source": [
    "import numpy as np\n",
    "import pandas as pd\n",
    "import sqlite3 as sql\n",
    "from modules.cleaning_utils import multiple_descriptions, replace_description\n",
    "from modules.sql_utils import create_table"
   ]
  },
  {
   "cell_type": "code",
   "execution_count": 2,
   "id": "8cc03fe0",
   "metadata": {},
   "outputs": [],
   "source": [
    "arrest_df = pd.concat([\n",
    "    pd.read_parquet('../data/cleaned/arrest_data_historic_cleaned_1.parquet.gz'),\n",
    "    pd.read_parquet('../data/cleaned/arrest_data_historic_cleaned_2.parquet.gz')\n",
    "])\n",
    "complaint_df = pd.concat([\n",
    "    pd.read_parquet('../data/cleaned/complaint_data_historic_cleaned_1.parquet.gz'),\n",
    "    pd.read_parquet('../data/cleaned/complaint_data_historic_cleaned_2.parquet.gz')\n",
    "])\n",
    "shooting_df = pd.read_parquet('../data/cleaned/shooting_data_historic_cleaned.parquet.gz')\n",
    "population_df = pd.read_parquet('../data/cleaned/population_data_cleaned.parquet.gz')"
   ]
  },
  {
   "cell_type": "code",
   "execution_count": 3,
   "id": "4ac08409",
   "metadata": {},
   "outputs": [
    {
     "name": "stdout",
     "output_type": "stream",
     "text": [
      "<class 'pandas.core.frame.DataFrame'>\n",
      "Index: 5684630 entries, 0 to 2842314\n",
      "Data columns (total 16 columns):\n",
      " #   Column             Dtype         \n",
      "---  ------             -----         \n",
      " 0   ARREST_KEY         int64         \n",
      " 1   ARREST_DATE        datetime64[ns]\n",
      " 2   PD_CD              int64         \n",
      " 3   PD_DESC            category      \n",
      " 4   KY_CD              int64         \n",
      " 5   OFNS_DESC          category      \n",
      " 6   LAW_CODE           category      \n",
      " 7   LAW_CAT_CD         category      \n",
      " 8   ARREST_BORO        category      \n",
      " 9   ARREST_PRECINCT    int64         \n",
      " 10  JURISDICTION_CODE  int64         \n",
      " 11  AGE_GROUP          category      \n",
      " 12  PERP_SEX           category      \n",
      " 13  PERP_RACE          category      \n",
      " 14  Latitude           float64       \n",
      " 15  Longitude          float64       \n",
      "dtypes: category(8), datetime64[ns](1), float64(2), int64(5)\n",
      "memory usage: 444.6 MB\n"
     ]
    }
   ],
   "source": [
    "arrest_df.info()"
   ]
  },
  {
   "cell_type": "code",
   "execution_count": 4,
   "id": "3b3ce4cc",
   "metadata": {},
   "outputs": [
    {
     "name": "stdout",
     "output_type": "stream",
     "text": [
      "<class 'pandas.core.frame.DataFrame'>\n",
      "Index: 8859411 entries, 0 to 4429705\n",
      "Data columns (total 22 columns):\n",
      " #   Column             Dtype         \n",
      "---  ------             -----         \n",
      " 0   CMPLNT_NUM         int64         \n",
      " 1   CMPLNT_FR_DT       datetime64[ns]\n",
      " 2   CMPLNT_FR_TM       object        \n",
      " 3   ADDR_PCT_CD        int64         \n",
      " 4   RPT_DT             datetime64[ns]\n",
      " 5   KY_CD              int64         \n",
      " 6   OFNS_DESC          category      \n",
      " 7   PD_CD              int64         \n",
      " 8   PD_DESC            category      \n",
      " 9   CRM_ATPT_CPTD_CD   category      \n",
      " 10  LAW_CAT_CD         category      \n",
      " 11  BORO_NM            category      \n",
      " 12  JURIS_DESC         category      \n",
      " 13  JURISDICTION_CODE  int64         \n",
      " 14  SUSP_AGE_GROUP     category      \n",
      " 15  SUSP_RACE          category      \n",
      " 16  SUSP_SEX           category      \n",
      " 17  Latitude           float64       \n",
      " 18  Longitude          float64       \n",
      " 19  VIC_AGE_GROUP      category      \n",
      " 20  VIC_RACE           category      \n",
      " 21  VIC_SEX            category      \n",
      "dtypes: category(12), datetime64[ns](2), float64(2), int64(5), object(1)\n",
      "memory usage: 853.4+ MB\n"
     ]
    }
   ],
   "source": [
    "complaint_df.info()"
   ]
  },
  {
   "cell_type": "code",
   "execution_count": 5,
   "id": "ed73eada",
   "metadata": {},
   "outputs": [
    {
     "name": "stdout",
     "output_type": "stream",
     "text": [
      "<class 'pandas.core.frame.DataFrame'>\n",
      "RangeIndex: 28501 entries, 0 to 28500\n",
      "Data columns (total 15 columns):\n",
      " #   Column                   Non-Null Count  Dtype         \n",
      "---  ------                   --------------  -----         \n",
      " 0   INCIDENT_KEY             28501 non-null  int64         \n",
      " 1   OCCUR_DATE               28501 non-null  datetime64[ns]\n",
      " 2   OCCUR_TIME               28501 non-null  object        \n",
      " 3   BORO                     28501 non-null  category      \n",
      " 4   PRECINCT                 28501 non-null  int64         \n",
      " 5   JURISDICTION_CODE        28501 non-null  float64       \n",
      " 6   STATISTICAL_MURDER_FLAG  28501 non-null  bool          \n",
      " 7   PERP_AGE_GROUP           28501 non-null  category      \n",
      " 8   PERP_SEX                 28501 non-null  category      \n",
      " 9   PERP_RACE                28501 non-null  category      \n",
      " 10  VIC_AGE_GROUP            28501 non-null  category      \n",
      " 11  VIC_SEX                  28501 non-null  category      \n",
      " 12  VIC_RACE                 28501 non-null  category      \n",
      " 13  Latitude                 28501 non-null  float64       \n",
      " 14  Longitude                28501 non-null  float64       \n",
      "dtypes: bool(1), category(7), datetime64[ns](1), float64(3), int64(2), object(1)\n",
      "memory usage: 1.7+ MB\n"
     ]
    }
   ],
   "source": [
    "shooting_df.info()"
   ]
  },
  {
   "cell_type": "code",
   "execution_count": 6,
   "id": "c9cf4384",
   "metadata": {},
   "outputs": [
    {
     "name": "stdout",
     "output_type": "stream",
     "text": [
      "<class 'pandas.core.frame.DataFrame'>\n",
      "RangeIndex: 6 entries, 0 to 5\n",
      "Data columns (total 11 columns):\n",
      " #   Column   Non-Null Count  Dtype \n",
      "---  ------   --------------  ----- \n",
      " 0   Borough  6 non-null      object\n",
      " 1   1950     6 non-null      int64 \n",
      " 2   1960     6 non-null      int64 \n",
      " 3   1970     6 non-null      int64 \n",
      " 4   1980     6 non-null      int64 \n",
      " 5   1990     6 non-null      int64 \n",
      " 6   2000     6 non-null      int64 \n",
      " 7   2010     6 non-null      int64 \n",
      " 8   2020     6 non-null      int64 \n",
      " 9   2030     6 non-null      int64 \n",
      " 10  2040     6 non-null      int64 \n",
      "dtypes: int64(10), object(1)\n",
      "memory usage: 656.0+ bytes\n"
     ]
    }
   ],
   "source": [
    "population_df.info()"
   ]
  },
  {
   "cell_type": "markdown",
   "id": "bd21f887",
   "metadata": {},
   "source": [
    "## Identify Matching Columns and Normalize"
   ]
  },
  {
   "cell_type": "markdown",
   "id": "8cdb3497",
   "metadata": {},
   "source": [
    "### Offense Code and Description (KY_CD, OFNS_DESC)"
   ]
  },
  {
   "cell_type": "markdown",
   "id": "07b6b3a2",
   "metadata": {},
   "source": [
    "From the documentation:\n",
    "- KY_CD: Three digit offense classification code\n",
    "- OFNS_DESC: Description of offense corresponding with key code"
   ]
  },
  {
   "cell_type": "code",
   "execution_count": 7,
   "id": "8ad939de",
   "metadata": {},
   "outputs": [],
   "source": [
    "cols = ['KY_CD', 'OFNS_DESC']\n",
    "offense_code_df = pd.concat([arrest_df[cols], complaint_df[cols]]).value_counts().reset_index()[cols].sort_values(cols[0])"
   ]
  },
  {
   "cell_type": "code",
   "execution_count": 8,
   "id": "c0f4f06b",
   "metadata": {},
   "outputs": [
    {
     "data": {
      "text/plain": [
       "{103: ['HOMICIDE-NEGLIGENT,UNCLASSIFIE', 'HOMICIDE-NEGLIGENT,UNCLASSIFIED'],\n",
       " 121: ['CRIMINAL MISCHIEF & RELATED OF',\n",
       "  'CRIMINAL MISCHIEF & RELATED OFFENSES'],\n",
       " 125: ['NYS LAWS-UNCLASSIFIED FELONY', 'VEHICLE AND TRAFFIC LAWS'],\n",
       " 233: ['FORCIBLE TOUCHING', 'SEX CRIMES'],\n",
       " 343: ['OTHER OFFENSES RELATED TO THEFT', 'THEFT OF SERVICES'],\n",
       " 347: ['INTOXICATED & IMPAIRED DRIVING', 'INTOXICATED/IMPAIRED DRIVING'],\n",
       " 349: ['DISRUPTION OF A RELIGIOUS SERV', 'DISRUPTION OF A RELIGIOUS SERVICE'],\n",
       " 351: ['CRIMINAL MISCHIEF & RELATED OF',\n",
       "  'CRIMINAL MISCHIEF & RELATED OFFENSES'],\n",
       " 359: ['OFFENSES AGAINST PUBLIC ADMINI',\n",
       "  'OFFENSES AGAINST PUBLIC ADMINISTRATION'],\n",
       " 361: ['HARASSMENT', 'OFF. AGNST PUB ORD SENSBLTY &'],\n",
       " 362: ['OFFENSES AGAINST MARRIAGE UNCL',\n",
       "  'OFFENSES AGAINST MARRIAGE UNCLASSIFIED'],\n",
       " 455: ['UNLAWFUL POSS. WEAP. ON SCHOOL',\n",
       "  'UNLAWFUL POSS. WEAP. ON SCHOOL GROUNDS'],\n",
       " 571: ['LOITERING/GAMBLING (CARDS, DIC',\n",
       "  'LOITERING/GAMBLING (CARDS, DICE, ETC)'],\n",
       " 577: ['UNDER THE INFLUENCE OF DRUGS', 'UNDER THE INFLUENCE, DRUGS'],\n",
       " 672: ['LOITERING', 'PROSTITUTION & RELATED OFFENSES'],\n",
       " 677: ['NYS LAWS-UNCLASSIFIED VIOLATION', 'OTHER STATE LAWS']}"
      ]
     },
     "execution_count": 8,
     "metadata": {},
     "output_type": "execute_result"
    }
   ],
   "source": [
    "# Multiple descriptions for different codes\n",
    "multi_dict = multiple_descriptions(offense_code_df, cols[0], cols [1])\n",
    "multi_dict"
   ]
  },
  {
   "cell_type": "code",
   "execution_count": 9,
   "id": "5e40ce30",
   "metadata": {},
   "outputs": [
    {
     "data": {
      "text/html": [
       "<div>\n",
       "<style scoped>\n",
       "    .dataframe tbody tr th:only-of-type {\n",
       "        vertical-align: middle;\n",
       "    }\n",
       "\n",
       "    .dataframe tbody tr th {\n",
       "        vertical-align: top;\n",
       "    }\n",
       "\n",
       "    .dataframe thead th {\n",
       "        text-align: right;\n",
       "    }\n",
       "</style>\n",
       "<table border=\"1\" class=\"dataframe\">\n",
       "  <thead>\n",
       "    <tr style=\"text-align: right;\">\n",
       "      <th></th>\n",
       "      <th>KY_CD</th>\n",
       "      <th>OFNS_DESC</th>\n",
       "    </tr>\n",
       "  </thead>\n",
       "  <tbody>\n",
       "    <tr>\n",
       "      <th>46</th>\n",
       "      <td>101</td>\n",
       "      <td>MURDER &amp; NON-NEGL. MANSLAUGHTER</td>\n",
       "    </tr>\n",
       "    <tr>\n",
       "      <th>75</th>\n",
       "      <td>102</td>\n",
       "      <td>HOMICIDE-NEGLIGENT-VEHICLE</td>\n",
       "    </tr>\n",
       "    <tr>\n",
       "      <th>77</th>\n",
       "      <td>103</td>\n",
       "      <td>HOMICIDE-NEGLIGENT,UNCLASSIFIED</td>\n",
       "    </tr>\n",
       "    <tr>\n",
       "      <th>40</th>\n",
       "      <td>104</td>\n",
       "      <td>RAPE</td>\n",
       "    </tr>\n",
       "    <tr>\n",
       "      <th>7</th>\n",
       "      <td>105</td>\n",
       "      <td>ROBBERY</td>\n",
       "    </tr>\n",
       "    <tr>\n",
       "      <th>...</th>\n",
       "      <td>...</td>\n",
       "      <td>...</td>\n",
       "    </tr>\n",
       "    <tr>\n",
       "      <th>78</th>\n",
       "      <td>685</td>\n",
       "      <td>ADMINISTRATIVE CODES</td>\n",
       "    </tr>\n",
       "    <tr>\n",
       "      <th>54</th>\n",
       "      <td>880</td>\n",
       "      <td>MOVING INFRACTIONS</td>\n",
       "    </tr>\n",
       "    <tr>\n",
       "      <th>22</th>\n",
       "      <td>881</td>\n",
       "      <td>OTHER TRAFFIC INFRACTION</td>\n",
       "    </tr>\n",
       "    <tr>\n",
       "      <th>79</th>\n",
       "      <td>882</td>\n",
       "      <td>PARKING OFFENSES</td>\n",
       "    </tr>\n",
       "    <tr>\n",
       "      <th>90</th>\n",
       "      <td>995</td>\n",
       "      <td>F.C.A. P.I.N.O.S.</td>\n",
       "    </tr>\n",
       "  </tbody>\n",
       "</table>\n",
       "<p>79 rows × 2 columns</p>\n",
       "</div>"
      ],
      "text/plain": [
       "    KY_CD                        OFNS_DESC\n",
       "46    101  MURDER & NON-NEGL. MANSLAUGHTER\n",
       "75    102       HOMICIDE-NEGLIGENT-VEHICLE\n",
       "77    103  HOMICIDE-NEGLIGENT,UNCLASSIFIED\n",
       "40    104                             RAPE\n",
       "7     105                          ROBBERY\n",
       "..    ...                              ...\n",
       "78    685             ADMINISTRATIVE CODES\n",
       "54    880               MOVING INFRACTIONS\n",
       "22    881         OTHER TRAFFIC INFRACTION\n",
       "79    882                 PARKING OFFENSES\n",
       "90    995                F.C.A. P.I.N.O.S.\n",
       "\n",
       "[79 rows x 2 columns]"
      ]
     },
     "execution_count": 9,
     "metadata": {},
     "output_type": "execute_result"
    }
   ],
   "source": [
    "# Replace differing descriptions with normalized version, then drop duplicates\n",
    "# Each row is now unique\n",
    "index_map = [1, 1, 1, 0, 0, 1, 1, 1, 1, 0, 1, 1, 1, 0, 1, 0]\n",
    "replace_description(offense_code_df, multi_dict, index_map, cols[0], cols[1])\n",
    "offense_code_df = offense_code_df.drop_duplicates()\n",
    "offense_code_df"
   ]
  },
  {
   "cell_type": "code",
   "execution_count": 10,
   "id": "6f10d0c1",
   "metadata": {},
   "outputs": [],
   "source": [
    "# Drop description columns from arrest and complaint data, as they can use\n",
    "# KY_CD as a foreign key into the offense description table\n",
    "arrest_df.drop(cols[1], axis = 1, inplace = True)\n",
    "complaint_df.drop(cols[1], axis = 1, inplace = True)"
   ]
  },
  {
   "cell_type": "markdown",
   "id": "a6cbd9c1",
   "metadata": {},
   "source": [
    "### Internal Classification Code and Description (PD_CD, PD_DESC)"
   ]
  },
  {
   "cell_type": "markdown",
   "id": "7b2113bf",
   "metadata": {},
   "source": [
    "From the documentation:\n",
    "- PD_CD: Three digit internal classification code (more granular than Key Code)\n",
    "- PD_DESC: Description of internal classification corresponding with PD code (more granular than Offense Description)"
   ]
  },
  {
   "cell_type": "code",
   "execution_count": 11,
   "id": "ea71d439",
   "metadata": {},
   "outputs": [],
   "source": [
    "# Multiple descriptions for different codes\n",
    "cols = ['PD_CD', 'PD_DESC']\n",
    "internal_code_df = pd.concat([arrest_df[cols], complaint_df[cols]]).value_counts().reset_index()[cols].sort_values(cols[0])"
   ]
  },
  {
   "cell_type": "code",
   "execution_count": 12,
   "id": "add12d72",
   "metadata": {},
   "outputs": [
    {
     "data": {
      "text/plain": [
       "{104: ['VEHICULAR ASSAULT (INTOX DRIVE', 'VEHICULAR ASSAULT (INTOX DRIVER)'],\n",
       " 107: ['END WELFARE VULNERABLE ELDERLY PERSON',\n",
       "  'ENDANGERING VULNERABLE ELDERLY'],\n",
       " 112: ['MENACING 1ST DEGREE (VICT NOT',\n",
       "  'MENACING 1ST DEGREE (VICT NOT PEACE OFFICER)'],\n",
       " 122: ['HOMICIDE, NEGLIGENT, VEHICLE,',\n",
       "  'HOMICIDE, NEGLIGENT, VEHICLE, INTOX DRIVER'],\n",
       " 125: ['HOMICIDE,NEGLIGENT,UNCLASSIFIE', 'HOMICIDE,NEGLIGENT,UNCLASSIFIED'],\n",
       " 178: ['FAC. SEXUAL OFFENSE W/CONTROLL',\n",
       "  'FAC. SEXUAL OFFENSE W/CONTROLLED SUBSTANCE'],\n",
       " 180: ['COURSE OF SEXUAL CONDUCT AGAIN',\n",
       "  'COURSE OF SEXUAL CONDUCT AGAINST A CHILD'],\n",
       " 201: ['TRESPASS 4,CRIMINAL', 'TRESPASS 4,CRIMINAL SUB 2'],\n",
       " 244: ['BURGLARY,UNCLASSIFIED,UNKNOWN', 'BURGLARY,UNCLASSIFIED,UNKNOWN TIME'],\n",
       " 248: ['RADIO DEVICES,UNLAWFUL POSSESS', 'RADIO DEVICES,UNLAWFUL POSSESSION'],\n",
       " 254: ['MISCHIEF, CRIMINAL 4, OF MOTOR',\n",
       "  'MISCHIEF, CRIMINAL 4, OF MOTOR VEHICLE'],\n",
       " 258: ['CRIMINAL MISCHIEF 4TH, GRAFFIT', 'CRIMINAL MISCHIEF 4TH, GRAFFITI'],\n",
       " 267: ['MISCHIEF, CRIMINAL 3 & 2, OF M',\n",
       "  'MISCHIEF, CRIMINAL 3 & 2, OF MOTOR VEHICLE'],\n",
       " 269: ['MISCHIEF,CRIMINAL,    UNCL 2ND',\n",
       "  'MISCHIEF,CRIMINAL,    UNCL 2ND DEG 3RD DEG'],\n",
       " 277: ['RECKLESS ENDANGERMENT OF PROPE', 'RECKLESS ENDANGERMENT OF PROPERTY'],\n",
       " 339: ['LARCENY,PETIT FROM OPEN AREAS,',\n",
       "  'LARCENY,PETIT FROM OPEN AREAS,UNCLASSIFIED'],\n",
       " 380: ['ROBBERY,CAR JACKING', 'ROBBERY,CARJACKING OF MV OTHER THAN TRUCK'],\n",
       " 419: ['LARCENY,GRAND FROM PERSON,UNCL',\n",
       "  'LARCENY,GRAND FROM PERSON,UNCLASSIFIED'],\n",
       " 438: ['LARCENY,GRAND FROM BUILDING (NON-RESIDENCE) UNATTENDED',\n",
       "  'LARCENY,GRAND FROM BUILDING,UNCLASSIFIED'],\n",
       " 439: ['LARCENY,GRAND FROM OPEN AREAS, UNATTENDED',\n",
       "  'LARCENY,GRAND FROM OPEN AREAS,UNCLASSIFIED'],\n",
       " 477: ['THEFT OF SERVICES- CABLE TV SE',\n",
       "  'THEFT OF SERVICES- CABLE TV SERVICE'],\n",
       " 478: ['THEFT OF SERVICES, UNCLASSIFIE', 'THEFT OF SERVICES, UNCLASSIFIED'],\n",
       " 479: ['THEFT,RELATED OFFENSES,UNCLASS',\n",
       "  'THEFT,RELATED OFFENSES,UNCLASSIFIED'],\n",
       " 489: ['THEFT,RELATED OFFENSES,UNCLASS',\n",
       "  'THEFT,RELATED OFFENSES,UNCLASSIFIED'],\n",
       " 493: ['STOLEN PROPERTY-MOTOR VEH 2ND,',\n",
       "  'STOLEN PROPERTY-MOTOR VEH 2ND, 1ST POSSESS'],\n",
       " 494: ['STOLEN PROPERTY 2,1,POSSESSION',\n",
       "  'STOLEN PROPERTY 2,1,POSSESSION,UNCLASSIFIED'],\n",
       " 498: ['STOLEN PROPERTY 2,POSSESSION B',\n",
       "  'STOLEN PROPERTY 2,POSSESSION BY LICENSED DEA'],\n",
       " 500: ['CONTROLLED SUBSTANCE,POSSESS.', 'CONTROLLED SUBSTANCE,POSSESS. 1'],\n",
       " 501: ['CONTROLLED SUBSTANCE,POSSESS.', 'CONTROLLED SUBSTANCE,POSSESS. 2'],\n",
       " 502: ['CONTROLLED SUBSTANCE,POSSESS.', 'CONTROLLED SUBSTANCE,POSSESS. 3'],\n",
       " 503: ['CONTROLLED SUBSTANCE,INTENT TO',\n",
       "  'CONTROLLED SUBSTANCE,INTENT TO SELL 3'],\n",
       " 505: ['CONTROLLED SUBSTANCE, POSSESSI', 'CONTROLLED SUBSTANCE, POSSESSION 4'],\n",
       " 507: ['CONTROLLED SUBSTANCE, POSSESSI', 'CONTROLLED SUBSTANCE, POSSESSION 5'],\n",
       " 508: ['DRUG PARAPHERNALIA,   POSSESSE',\n",
       "  'DRUG PARAPHERNALIA,   POSSESSES OR SELLS 2'],\n",
       " 509: ['POSSESSION HYPODERMIC INSTRUME', 'POSSESSION HYPODERMIC INSTRUMENT'],\n",
       " 510: ['CONTROLLED SUBSTANCE, INTENT T',\n",
       "  'CONTROLLED SUBSTANCE, INTENT TO SELL 5'],\n",
       " 511: ['CONTROLLED SUBSTANCE, POSSESSI', 'CONTROLLED SUBSTANCE, POSSESSION 7'],\n",
       " 531: ['DRUG PARAPHERNALIA,   POSSESSE',\n",
       "  'DRUG PARAPHERNALIA,   POSSESSES OR SELLS 1'],\n",
       " 532: ['CONTROLLED SUBSTANCE,POSSESS.',\n",
       "  'CONTROLLED SUBSTANCE,POSSESS. OF PROCURSERS'],\n",
       " 533: ['GAMBLING 2, PROMOTING, BOOKMAK', 'GAMBLING 2, PROMOTING, BOOKMAKING'],\n",
       " 537: ['GAMBLING 2, PROMOTING, POLICY-',\n",
       "  'GAMBLING 2, PROMOTING, POLICY-LOTTERY'],\n",
       " 544: ['GAMBLING 2,PROMOTING,UNCLASSIF', 'GAMBLING 2,PROMOTING,UNCLASSIFIED'],\n",
       " 553: ['GAMBLING 1,PROMOTING,BOOKMAKIN', 'GAMBLING 1,PROMOTING,BOOKMAKING'],\n",
       " 576: ['PROSTITUTION 4,PROMOTING&SECUR', 'PROSTITUTION 4,PROMOTING&SECURING'],\n",
       " 584: ['PROSTITUTION 3, PROMOTING UNDE', 'PROSTITUTION 3, PROMOTING UNDER 19'],\n",
       " 585: ['PROSTITUTION 3,PROMOTING BUSIN', 'PROSTITUTION 3,PROMOTING BUSINESS'],\n",
       " 595: ['UNLAWFUL POSS. WEAPON UPON SCH',\n",
       "  'UNLAWFUL POSS. WEAPON UPON SCHOOL GROUNDS'],\n",
       " 596: ['OBSCENE MATERIAL - UNDER 17 YE',\n",
       "  'OBSCENE MATERIAL - UNDER 17 YEARS OF AGE'],\n",
       " 604: ['LOITERING 1ST DEGREE FOR DRUG',\n",
       "  'LOITERING 1ST DEGREE FOR DRUG PURPOSES'],\n",
       " 622: ['UNDER THE INFLUENCE OF DRUGS', 'UNDER THE INFLUENCE, DRUGS'],\n",
       " 662: ['MATERIAL              OFFENSIV',\n",
       "  'MATERIAL              OFFENSIVE DISPLAY'],\n",
       " 663: ['SUPP. ACT TERR 2ND', 'SUPP. ACT TERRORISM 2ND'],\n",
       " 664: ['SUPP ACT TERRORISM 1', 'TERRORISM PROVIDE SUPPORT'],\n",
       " 669: ['PRIVACY,OFFENSES AGAINST,UNCLA',\n",
       "  'PRIVACY,OFFENSES AGAINST,UNCLASSIFIED'],\n",
       " 687: ['CHILD,OFFENSES AGAINST,UNCLASS',\n",
       "  'CHILD,OFFENSES AGAINST,UNCLASSIFIED'],\n",
       " 689: ['MARRIAGE,OFFENSES AGAINST,UNCL',\n",
       "  'MARRIAGE,OFFENSES AGAINST,UNCLASSIFIED'],\n",
       " 693: ['INCEST', 'INCEST 1, 2'],\n",
       " 696: ['PROMOTING A SEXUAL PERFORMANCE',\n",
       "  'PROMOTING A SEXUAL PERFORMANCE BY A CHILD'],\n",
       " 697: ['USE OF A CHILD IN A SEXUAL PER',\n",
       "  'USE OF A CHILD IN A SEXUAL PERFORMANCE'],\n",
       " 707: ['IMPERSONATION 2, PUBLIC SERVAN', 'IMPERSONATION 2, PUBLIC SERVANT'],\n",
       " 708: ['IMPERSONATION 1, POLICE OFFICE', 'IMPERSONATION 1, POLICE OFFICER'],\n",
       " 718: ['FRAUD,UNCLASSIFIED-MISDEMEANOR',\n",
       "  'FRAUD,UNCLASSIFIED-MISDEMEANOR,PART 1'],\n",
       " 719: ['FRAUD,UNCLASSIFIED-MISDEMEANOR',\n",
       "  'FRAUD,UNCLASSIFIED-MISDEMEANOR-PART 2'],\n",
       " 724: ['FORGERY-ILLEGAL POSSESSION,VEH',\n",
       "  'FORGERY-ILLEGAL POSSESSION,VEHICLE IDENT. NU'],\n",
       " 729: ['FORGERY,ETC.,UNCLASSIFIED-FELO', 'FORGERY,ETC.,UNCLASSIFIED-FELONY'],\n",
       " 730: ['MANUFACTURE UNAUTHORIZED RECOR',\n",
       "  'MANUFACTURE UNAUTHORIZED RECORDINGS'],\n",
       " 731: ['SALE OF UNAUTHORIZED RECORDING', 'SALE OF UNAUTHORIZED RECORDINGS'],\n",
       " 739: ['FRAUD,UNCLASSIFIED-FELONY', 'IDENTITY THFT-1'],\n",
       " 754: ['APPEARANCE TICKET FAIL TO RESP', 'APPEARANCE TICKET FAIL TO RESPOND'],\n",
       " 759: ['PUBLIC ADMINISTATION,UNCLASS M',\n",
       "  'PUBLIC ADMINISTATION,UNCLASS MISDEMEAN 4'],\n",
       " 779: ['PUBLIC ADMINISTRATION,UNCLASSI',\n",
       "  'PUBLIC ADMINISTRATION,UNCLASSIFIED FELONY'],\n",
       " 785: ['WEAPONS DISPOSITION OF', 'WEAPONS,DISPOSITION OF'],\n",
       " 786: ['UNFINSH FRAME 2', 'WEAPONS,PROHIBITED USE'],\n",
       " 787: ['WEAPONS,PROHIBITED USE IMITATI',\n",
       "  'WEAPONS,PROHIBITED USE IMITATION PISTOL'],\n",
       " 799: ['PUBLIC SAFETY,UNCLASSIFIED MIS',\n",
       "  'PUBLIC SAFETY,UNCLASSIFIED MISDEMEANOR'],\n",
       " 812: ['AGRICULTURE & MARKETS LAW,UNCL',\n",
       "  'AGRICULTURE & MARKETS LAW,UNCLASSIFIED'],\n",
       " 827: ['GENERAL BUSINESS LAW / UNCLASSIFIED',\n",
       "  'GENERAL BUSINESS LAW,UNCLASSIFIED'],\n",
       " 841: ['PUBLIC HEALTH LAW,UNCLASSIFIED',\n",
       "  'PUBLIC HEALTH LAW,UNCLASSIFIED MISDEMEANOR'],\n",
       " 847: ['NY STATE LAWS,UNCLASSIFIED FEL', 'NY STATE LAWS,UNCLASSIFIED FELONY'],\n",
       " 848: ['NY STATE LAWS,UNCLASSIFIED MIS',\n",
       "  'NY STATE LAWS,UNCLASSIFIED MISDEMEANOR'],\n",
       " 849: ['NY STATE LAWS,UNCLASSIFIED VIO',\n",
       "  'NY STATE LAWS,UNCLASSIFIED VIOLATION'],\n",
       " 879: ['ADM.CODE,UNCLASSIFIED VIOLATIO', 'ADM.CODE,UNCLASSIFIED VIOLATION'],\n",
       " 916: ['LEAVING SCENE-ACCIDENT-PERSONA',\n",
       "  'LEAVING SCENE-ACCIDENT-PERSONAL-INJURY'],\n",
       " 922: ['TRAFFIC,UNCLASSIFIED MISDEMEAN', 'TRAFFIC,UNCLASSIFIED MISDEMEANOR'],\n",
       " 969: ['TRAFFIC,UNCLASSIFIED INFRACTIO', 'TRAFFIC,UNCLASSIFIED INFRACTION']}"
      ]
     },
     "execution_count": 12,
     "metadata": {},
     "output_type": "execute_result"
    }
   ],
   "source": [
    "# Multiple descriptions for different codes\n",
    "multi_dict = multiple_descriptions(internal_code_df, cols[0], cols [1])\n",
    "multi_dict"
   ]
  },
  {
   "cell_type": "code",
   "execution_count": 13,
   "id": "706e5ebd",
   "metadata": {},
   "outputs": [
    {
     "data": {
      "text/html": [
       "<div>\n",
       "<style scoped>\n",
       "    .dataframe tbody tr th:only-of-type {\n",
       "        vertical-align: middle;\n",
       "    }\n",
       "\n",
       "    .dataframe tbody tr th {\n",
       "        vertical-align: top;\n",
       "    }\n",
       "\n",
       "    .dataframe thead th {\n",
       "        text-align: right;\n",
       "    }\n",
       "</style>\n",
       "<table border=\"1\" class=\"dataframe\">\n",
       "  <thead>\n",
       "    <tr style=\"text-align: right;\">\n",
       "      <th></th>\n",
       "      <th>PD_CD</th>\n",
       "      <th>PD_DESC</th>\n",
       "    </tr>\n",
       "  </thead>\n",
       "  <tbody>\n",
       "    <tr>\n",
       "      <th>514</th>\n",
       "      <td>11</td>\n",
       "      <td>NY CITY,TRAFFIC SUMMONS WARRANT</td>\n",
       "    </tr>\n",
       "    <tr>\n",
       "      <th>460</th>\n",
       "      <td>100</td>\n",
       "      <td>STALKING COMMIT SEX OFFENSE</td>\n",
       "    </tr>\n",
       "    <tr>\n",
       "      <th>0</th>\n",
       "      <td>101</td>\n",
       "      <td>ASSAULT 3</td>\n",
       "    </tr>\n",
       "    <tr>\n",
       "      <th>416</th>\n",
       "      <td>102</td>\n",
       "      <td>ASSAULT SCHOOL SAFETY AGENT</td>\n",
       "    </tr>\n",
       "    <tr>\n",
       "      <th>399</th>\n",
       "      <td>103</td>\n",
       "      <td>ASSAULT TRAFFIC AGENT</td>\n",
       "    </tr>\n",
       "    <tr>\n",
       "      <th>...</th>\n",
       "      <td>...</td>\n",
       "      <td>...</td>\n",
       "    </tr>\n",
       "    <tr>\n",
       "      <th>489</th>\n",
       "      <td>970</td>\n",
       "      <td>SPILLBACK</td>\n",
       "    </tr>\n",
       "    <tr>\n",
       "      <th>410</th>\n",
       "      <td>972</td>\n",
       "      <td>SEAT BELTS</td>\n",
       "    </tr>\n",
       "    <tr>\n",
       "      <th>388</th>\n",
       "      <td>973</td>\n",
       "      <td>USE OF CELLULAR TELEPHONE WHILE DRIVING</td>\n",
       "    </tr>\n",
       "    <tr>\n",
       "      <th>552</th>\n",
       "      <td>975</td>\n",
       "      <td>ENVIRONMENTAL CONTROL BOARD</td>\n",
       "    </tr>\n",
       "    <tr>\n",
       "      <th>412</th>\n",
       "      <td>997</td>\n",
       "      <td>PARKING,UNCLASSIFIED</td>\n",
       "    </tr>\n",
       "  </tbody>\n",
       "</table>\n",
       "<p>475 rows × 2 columns</p>\n",
       "</div>"
      ],
      "text/plain": [
       "     PD_CD                                  PD_DESC\n",
       "514     11          NY CITY,TRAFFIC SUMMONS WARRANT\n",
       "460    100              STALKING COMMIT SEX OFFENSE\n",
       "0      101                                ASSAULT 3\n",
       "416    102              ASSAULT SCHOOL SAFETY AGENT\n",
       "399    103                    ASSAULT TRAFFIC AGENT\n",
       "..     ...                                      ...\n",
       "489    970                                SPILLBACK\n",
       "410    972                               SEAT BELTS\n",
       "388    973  USE OF CELLULAR TELEPHONE WHILE DRIVING\n",
       "552    975              ENVIRONMENTAL CONTROL BOARD\n",
       "412    997                     PARKING,UNCLASSIFIED\n",
       "\n",
       "[475 rows x 2 columns]"
      ]
     },
     "execution_count": 13,
     "metadata": {},
     "output_type": "execute_result"
    }
   ],
   "source": [
    "# Replace differing descriptions with normalized version, then drop duplicates\n",
    "# Each row is now unique\n",
    "index_map = [\n",
    "    1, 1, 1, 1, 1,\n",
    "    1, 1, 0, 1, 1,\n",
    "    1, 1, 1, 1, 1,\n",
    "    1, 1, 1, 1, 1,\n",
    "    1, 1, 1, 1, 1,\n",
    "    1, 1, 1, 1, 1,\n",
    "    1, 1, 1, 1, 1,\n",
    "    1, 1, 1, 1, 1,\n",
    "    1, 1, 1, 1, 1,\n",
    "    1, 1, 1, 1, 0,\n",
    "    1, 1, 1, 1, 1,\n",
    "    1, 0, 1, 1, 1,\n",
    "    1, 1, 1, 1, 1,\n",
    "    1, 1, 1, 1, 1,\n",
    "    1, 1, 1, 1, 1,\n",
    "    1, 1, 1, 1, 1,\n",
    "    1, 1, 1, 1, 1\n",
    "]\n",
    "replace_description(internal_code_df, multi_dict, index_map, cols[0], cols[1])\n",
    "internal_code_df = internal_code_df.drop_duplicates()\n",
    "internal_code_df"
   ]
  },
  {
   "cell_type": "code",
   "execution_count": 14,
   "id": "f1f7334c",
   "metadata": {},
   "outputs": [],
   "source": [
    "# Drop description columns from arrest and complaint data, as they can use\n",
    "# PD_CD as a foreign key into the internal description table\n",
    "arrest_df.drop(cols[1], axis = 1, inplace = True)\n",
    "complaint_df.drop(cols[1], axis = 1, inplace = True)"
   ]
  },
  {
   "cell_type": "markdown",
   "id": "305dd3f9",
   "metadata": {},
   "source": [
    "## Standardizing Labels and Column Names"
   ]
  },
  {
   "cell_type": "markdown",
   "id": "13e5a680",
   "metadata": {},
   "source": [
    "### Law Categories"
   ]
  },
  {
   "cell_type": "markdown",
   "id": "21831007",
   "metadata": {},
   "source": [
    "Both the arrest and complaints table have law categories, these should be normalized."
   ]
  },
  {
   "cell_type": "code",
   "execution_count": 15,
   "id": "a6e11576",
   "metadata": {},
   "outputs": [
    {
     "data": {
      "text/plain": [
       "['F', 'M', 'V', 'I']\n",
       "Categories (4, object): ['F', 'I', 'M', 'V']"
      ]
     },
     "execution_count": 15,
     "metadata": {},
     "output_type": "execute_result"
    }
   ],
   "source": [
    "arrest_df.LAW_CAT_CD.unique()"
   ]
  },
  {
   "cell_type": "code",
   "execution_count": 16,
   "id": "c3f9ecef",
   "metadata": {},
   "outputs": [
    {
     "data": {
      "text/plain": [
       "['FELONY', 'VIOLATION', 'MISDEMEANOR']\n",
       "Categories (3, object): ['FELONY', 'MISDEMEANOR', 'VIOLATION']"
      ]
     },
     "execution_count": 16,
     "metadata": {},
     "output_type": "execute_result"
    }
   ],
   "source": [
    "complaint_df.LAW_CAT_CD.unique()"
   ]
  },
  {
   "cell_type": "code",
   "execution_count": 17,
   "id": "25f6f75f",
   "metadata": {},
   "outputs": [],
   "source": [
    "# We will use the single letter categories as used in the arrest df\n",
    "# F = Felony, M = Misdemeneor, V = Violation, I = Traffic Infractions\n",
    "complaint_df.LAW_CAT_CD = complaint_df.LAW_CAT_CD.cat.rename_categories(\n",
    "    {'FELONY': 'F', 'VIOLATION': 'V', 'MISDEMEANOR': 'M'}\n",
    ")"
   ]
  },
  {
   "cell_type": "markdown",
   "id": "88199243",
   "metadata": {},
   "source": [
    "### Borough Names"
   ]
  },
  {
   "cell_type": "markdown",
   "id": "e0752f31",
   "metadata": {},
   "source": [
    "Borough names should be standardized to single letter codes, to be used as a join on the population table. Names of columns should also be standardized.\n",
    "\n",
    "- B = Bronx\n",
    "- K = Brooklyn\n",
    "- M = Manhattan\n",
    "- Q = Queens\n",
    "- S = Staten Island"
   ]
  },
  {
   "cell_type": "code",
   "execution_count": 18,
   "id": "e3ec0f0e",
   "metadata": {},
   "outputs": [
    {
     "data": {
      "text/plain": [
       "['B', 'K', 'S', 'Q', 'M']\n",
       "Categories (5, object): ['B', 'K', 'M', 'Q', 'S']"
      ]
     },
     "execution_count": 18,
     "metadata": {},
     "output_type": "execute_result"
    }
   ],
   "source": [
    "arrest_df.ARREST_BORO.unique()"
   ]
  },
  {
   "cell_type": "code",
   "execution_count": 19,
   "id": "92fdf19a",
   "metadata": {},
   "outputs": [],
   "source": [
    "# Already has correct codes, just rename the column\n",
    "arrest_df.rename({'ARREST_BORO': 'BORO'}, axis = 1, inplace = True)"
   ]
  },
  {
   "cell_type": "code",
   "execution_count": 20,
   "id": "1b527140",
   "metadata": {},
   "outputs": [
    {
     "data": {
      "text/plain": [
       "['MANHATTAN', 'BROOKLYN', 'BRONX', 'QUEENS', 'STATEN ISLAND']\n",
       "Categories (5, object): ['BRONX', 'BROOKLYN', 'MANHATTAN', 'QUEENS', 'STATEN ISLAND']"
      ]
     },
     "execution_count": 20,
     "metadata": {},
     "output_type": "execute_result"
    }
   ],
   "source": [
    "complaint_df.BORO_NM.unique()"
   ]
  },
  {
   "cell_type": "code",
   "execution_count": 21,
   "id": "344c2269",
   "metadata": {},
   "outputs": [],
   "source": [
    "# Need to replace long-form names with codes and rename column\n",
    "complaint_df.BORO_NM = complaint_df.BORO_NM.cat.rename_categories(\n",
    "    {'BRONX': 'B', 'BROOKLYN': 'K', 'MANHATTAN': 'M', 'QUEENS': 'Q', 'STATEN ISLAND': 'S'}\n",
    ")\n",
    "complaint_df.rename({'BORO_NM': 'BORO'}, axis = 1, inplace = True)"
   ]
  },
  {
   "cell_type": "code",
   "execution_count": 22,
   "id": "02eb394a",
   "metadata": {
    "scrolled": true
   },
   "outputs": [
    {
     "data": {
      "text/plain": [
       "['MANHATTAN', 'BRONX', 'QUEENS', 'BROOKLYN', 'STATEN ISLAND']\n",
       "Categories (5, object): ['BRONX', 'BROOKLYN', 'MANHATTAN', 'QUEENS', 'STATEN ISLAND']"
      ]
     },
     "execution_count": 22,
     "metadata": {},
     "output_type": "execute_result"
    }
   ],
   "source": [
    "shooting_df.BORO.unique()"
   ]
  },
  {
   "cell_type": "code",
   "execution_count": 23,
   "id": "a422df84",
   "metadata": {},
   "outputs": [],
   "source": [
    "# Need to replace long-form names with codes\n",
    "shooting_df.BORO = shooting_df.BORO.cat.rename_categories(\n",
    "    {'BRONX': 'B', 'BROOKLYN': 'K', 'MANHATTAN': 'M', 'QUEENS': 'Q', 'STATEN ISLAND': 'S'}\n",
    ")"
   ]
  },
  {
   "cell_type": "code",
   "execution_count": 24,
   "id": "7ed8ac27",
   "metadata": {
    "scrolled": true
   },
   "outputs": [
    {
     "data": {
      "text/plain": [
       "array(['NYC Total', '   Bronx', '   Brooklyn', '   Manhattan',\n",
       "       '   Queens', '   Staten Island'], dtype=object)"
      ]
     },
     "execution_count": 24,
     "metadata": {},
     "output_type": "execute_result"
    }
   ],
   "source": [
    "population_df.Borough.unique()"
   ]
  },
  {
   "cell_type": "code",
   "execution_count": 25,
   "id": "6e87c575",
   "metadata": {},
   "outputs": [
    {
     "data": {
      "text/html": [
       "<div>\n",
       "<style scoped>\n",
       "    .dataframe tbody tr th:only-of-type {\n",
       "        vertical-align: middle;\n",
       "    }\n",
       "\n",
       "    .dataframe tbody tr th {\n",
       "        vertical-align: top;\n",
       "    }\n",
       "\n",
       "    .dataframe thead th {\n",
       "        text-align: right;\n",
       "    }\n",
       "</style>\n",
       "<table border=\"1\" class=\"dataframe\">\n",
       "  <thead>\n",
       "    <tr style=\"text-align: right;\">\n",
       "      <th></th>\n",
       "      <th>BORO_CD</th>\n",
       "      <th>BORO_DESC</th>\n",
       "      <th>1950</th>\n",
       "      <th>1960</th>\n",
       "      <th>1970</th>\n",
       "      <th>1980</th>\n",
       "      <th>1990</th>\n",
       "      <th>2000</th>\n",
       "      <th>2010</th>\n",
       "      <th>2020</th>\n",
       "      <th>2030</th>\n",
       "      <th>2040</th>\n",
       "    </tr>\n",
       "  </thead>\n",
       "  <tbody>\n",
       "    <tr>\n",
       "      <th>0</th>\n",
       "      <td>T</td>\n",
       "      <td>NYC Total</td>\n",
       "      <td>7891957</td>\n",
       "      <td>7781984</td>\n",
       "      <td>7894862</td>\n",
       "      <td>7071639</td>\n",
       "      <td>7322564</td>\n",
       "      <td>8008278</td>\n",
       "      <td>8242624</td>\n",
       "      <td>8550971</td>\n",
       "      <td>8821027</td>\n",
       "      <td>9025145</td>\n",
       "    </tr>\n",
       "    <tr>\n",
       "      <th>1</th>\n",
       "      <td>B</td>\n",
       "      <td>Bronx</td>\n",
       "      <td>1451277</td>\n",
       "      <td>1424815</td>\n",
       "      <td>1471701</td>\n",
       "      <td>1168972</td>\n",
       "      <td>1203789</td>\n",
       "      <td>1332650</td>\n",
       "      <td>1385108</td>\n",
       "      <td>1446788</td>\n",
       "      <td>1518998</td>\n",
       "      <td>1579245</td>\n",
       "    </tr>\n",
       "    <tr>\n",
       "      <th>2</th>\n",
       "      <td>K</td>\n",
       "      <td>Brooklyn</td>\n",
       "      <td>2738175</td>\n",
       "      <td>2627319</td>\n",
       "      <td>2602012</td>\n",
       "      <td>2230936</td>\n",
       "      <td>2300664</td>\n",
       "      <td>2465326</td>\n",
       "      <td>2552911</td>\n",
       "      <td>2648452</td>\n",
       "      <td>2754009</td>\n",
       "      <td>2840525</td>\n",
       "    </tr>\n",
       "    <tr>\n",
       "      <th>3</th>\n",
       "      <td>M</td>\n",
       "      <td>Manhattan</td>\n",
       "      <td>1960101</td>\n",
       "      <td>1698281</td>\n",
       "      <td>1539233</td>\n",
       "      <td>1428285</td>\n",
       "      <td>1487536</td>\n",
       "      <td>1537195</td>\n",
       "      <td>1585873</td>\n",
       "      <td>1638281</td>\n",
       "      <td>1676720</td>\n",
       "      <td>1691617</td>\n",
       "    </tr>\n",
       "    <tr>\n",
       "      <th>4</th>\n",
       "      <td>Q</td>\n",
       "      <td>Queens</td>\n",
       "      <td>1550849</td>\n",
       "      <td>1809578</td>\n",
       "      <td>1986473</td>\n",
       "      <td>1891325</td>\n",
       "      <td>1951598</td>\n",
       "      <td>2229379</td>\n",
       "      <td>2250002</td>\n",
       "      <td>2330295</td>\n",
       "      <td>2373551</td>\n",
       "      <td>2412649</td>\n",
       "    </tr>\n",
       "    <tr>\n",
       "      <th>5</th>\n",
       "      <td>S</td>\n",
       "      <td>Staten Island</td>\n",
       "      <td>191555</td>\n",
       "      <td>221991</td>\n",
       "      <td>295443</td>\n",
       "      <td>352121</td>\n",
       "      <td>378977</td>\n",
       "      <td>443728</td>\n",
       "      <td>468730</td>\n",
       "      <td>487155</td>\n",
       "      <td>497749</td>\n",
       "      <td>501109</td>\n",
       "    </tr>\n",
       "  </tbody>\n",
       "</table>\n",
       "</div>"
      ],
      "text/plain": [
       "  BORO_CD      BORO_DESC     1950     1960     1970     1980     1990  \\\n",
       "0       T      NYC Total  7891957  7781984  7894862  7071639  7322564   \n",
       "1       B          Bronx  1451277  1424815  1471701  1168972  1203789   \n",
       "2       K       Brooklyn  2738175  2627319  2602012  2230936  2300664   \n",
       "3       M      Manhattan  1960101  1698281  1539233  1428285  1487536   \n",
       "4       Q         Queens  1550849  1809578  1986473  1891325  1951598   \n",
       "5       S  Staten Island   191555   221991   295443   352121   378977   \n",
       "\n",
       "      2000     2010     2020     2030     2040  \n",
       "0  8008278  8242624  8550971  8821027  9025145  \n",
       "1  1332650  1385108  1446788  1518998  1579245  \n",
       "2  2465326  2552911  2648452  2754009  2840525  \n",
       "3  1537195  1585873  1638281  1676720  1691617  \n",
       "4  2229379  2250002  2330295  2373551  2412649  \n",
       "5   443728   468730   487155   497749   501109  "
      ]
     },
     "execution_count": 25,
     "metadata": {},
     "output_type": "execute_result"
    }
   ],
   "source": [
    "# Need to rename the column and fix values, as well as add a code column for joining\n",
    "population_df.Borough = ['NYC Total', 'Bronx', 'Brooklyn', 'Manhattan', 'Queens', 'Staten Island']\n",
    "population_df.rename({'Borough': 'BORO_DESC'}, axis = 1, inplace = True)\n",
    "population_df.insert(0, 'BORO_CD', ['T', 'B', 'K', 'M', 'Q', 'S'])\n",
    "population_df"
   ]
  },
  {
   "cell_type": "markdown",
   "id": "0a2b4a7f",
   "metadata": {},
   "source": [
    "### Cleaning up remaining column names and order"
   ]
  },
  {
   "cell_type": "code",
   "execution_count": 26,
   "id": "edb016fe",
   "metadata": {},
   "outputs": [],
   "source": [
    "# Standardizing naming conventions\n",
    "arrest_df.rename({'AGE_GROUP': 'PERP_AGE_GROUP',\n",
    "                  'ARREST_PRECINCT': 'PRECINCT_CD',\n",
    "                  'Latitude': 'LATITUDE',\n",
    "                  'Longitude': 'LONGITUDE'}, axis = 1, inplace = True)\n",
    "complaint_df.rename({'CMPLNT_NUM': 'CMPLNT_KEY',\n",
    "                     'CMPLNT_FR_DT': 'CMPLNT_DATE',\n",
    "                     'CMPLNT_FR_TM': 'CMPLNT_TIME',\n",
    "                     'ADDR_PCT_CD': 'PRECINCT_CD',\n",
    "                     'Latitude': 'LATITUDE',\n",
    "                     'Longitude': 'LONGITUDE'}, axis = 1, inplace = True)\n",
    "shooting_df.rename({'PRECINCT': 'PRECINCT_CD',\n",
    "                    'Latitude': 'LATITUDE',\n",
    "                    'Longitude': 'LONGITUDE'}, axis = 1, inplace = True)"
   ]
  },
  {
   "cell_type": "code",
   "execution_count": 27,
   "id": "e0a5a360",
   "metadata": {},
   "outputs": [],
   "source": [
    "# Standardizing column order\n",
    "ordered_col = ['ARREST_KEY', 'ARREST_DATE', 'KY_CD', 'PD_CD',\n",
    "               'LAW_CAT_CD', 'LAW_CODE', 'PRECINCT_CD', 'JURISDICTION_CODE',\n",
    "               'BORO', 'PERP_AGE_GROUP', 'PERP_SEX', 'PERP_RACE', 'LATITUDE', 'LONGITUDE']\n",
    "\n",
    "arrest_df = arrest_df.reindex(columns = ordered_col)\n",
    "\n",
    "ordered_col = ['CMPLNT_KEY', 'CMPLNT_DATE', 'CMPLNT_TIME', 'RPT_DT', 'KY_CD', 'PD_CD',\n",
    "               'LAW_CAT_CD', 'PRECINCT_CD', 'JURISDICTION_CODE', 'JURIS_DESC',\n",
    "               'BORO', 'SUSP_AGE_GROUP', 'SUSP_RACE', 'SUSP_SEX',\n",
    "               'VIC_AGE_GROUP', 'VIC_RACE', 'VIC_SEX', 'LATITUDE', 'LONGITUDE']\n",
    "\n",
    "complaint_df = complaint_df.reindex(columns = ordered_col)\n",
    "\n",
    "ordered_col = ['INCIDENT_KEY', 'OCCUR_DATE', 'OCCUR_TIME', 'PRECINCT_CD',\n",
    "               'JURISDICTION_CODE', 'BORO', 'STATISTICAL_MURDER_FLAG',\n",
    "               'PERP_AGE_GROUP', 'PERP_SEX', 'PERP_RACE', 'VIC_AGE_GROUP',\n",
    "               'VIC_SEX', 'VIC_RACE', 'LATITUDE', 'LONGITUDE']\n",
    "\n",
    "shooting_df = shooting_df.reindex(columns = ordered_col)"
   ]
  },
  {
   "cell_type": "code",
   "execution_count": 28,
   "id": "326b12dd",
   "metadata": {},
   "outputs": [
    {
     "name": "stdout",
     "output_type": "stream",
     "text": [
      "<class 'pandas.core.frame.DataFrame'>\n",
      "Index: 5684630 entries, 0 to 2842314\n",
      "Data columns (total 14 columns):\n",
      " #   Column             Dtype         \n",
      "---  ------             -----         \n",
      " 0   ARREST_KEY         int64         \n",
      " 1   ARREST_DATE        datetime64[ns]\n",
      " 2   KY_CD              int64         \n",
      " 3   PD_CD              int64         \n",
      " 4   LAW_CAT_CD         category      \n",
      " 5   LAW_CODE           category      \n",
      " 6   PRECINCT_CD        int64         \n",
      " 7   JURISDICTION_CODE  int64         \n",
      " 8   BORO               category      \n",
      " 9   PERP_AGE_GROUP     category      \n",
      " 10  PERP_SEX           category      \n",
      " 11  PERP_RACE          category      \n",
      " 12  LATITUDE           float64       \n",
      " 13  LONGITUDE          float64       \n",
      "dtypes: category(6), datetime64[ns](1), float64(2), int64(5)\n",
      "memory usage: 428.4 MB\n"
     ]
    }
   ],
   "source": [
    "arrest_df.info()"
   ]
  },
  {
   "cell_type": "code",
   "execution_count": 29,
   "id": "06b77a52",
   "metadata": {},
   "outputs": [
    {
     "name": "stdout",
     "output_type": "stream",
     "text": [
      "<class 'pandas.core.frame.DataFrame'>\n",
      "Index: 8859411 entries, 0 to 4429705\n",
      "Data columns (total 19 columns):\n",
      " #   Column             Dtype         \n",
      "---  ------             -----         \n",
      " 0   CMPLNT_KEY         int64         \n",
      " 1   CMPLNT_DATE        datetime64[ns]\n",
      " 2   CMPLNT_TIME        object        \n",
      " 3   RPT_DT             datetime64[ns]\n",
      " 4   KY_CD              int64         \n",
      " 5   PD_CD              int64         \n",
      " 6   LAW_CAT_CD         category      \n",
      " 7   PRECINCT_CD        int64         \n",
      " 8   JURISDICTION_CODE  int64         \n",
      " 9   JURIS_DESC         category      \n",
      " 10  BORO               category      \n",
      " 11  SUSP_AGE_GROUP     category      \n",
      " 12  SUSP_RACE          category      \n",
      " 13  SUSP_SEX           category      \n",
      " 14  VIC_AGE_GROUP      category      \n",
      " 15  VIC_RACE           category      \n",
      " 16  VIC_SEX            category      \n",
      " 17  LATITUDE           float64       \n",
      " 18  LONGITUDE          float64       \n",
      "dtypes: category(9), datetime64[ns](2), float64(2), int64(5), object(1)\n",
      "memory usage: 819.6+ MB\n"
     ]
    }
   ],
   "source": [
    "complaint_df.info()"
   ]
  },
  {
   "cell_type": "code",
   "execution_count": 30,
   "id": "dfc350ef",
   "metadata": {},
   "outputs": [
    {
     "name": "stdout",
     "output_type": "stream",
     "text": [
      "<class 'pandas.core.frame.DataFrame'>\n",
      "RangeIndex: 28501 entries, 0 to 28500\n",
      "Data columns (total 15 columns):\n",
      " #   Column                   Non-Null Count  Dtype         \n",
      "---  ------                   --------------  -----         \n",
      " 0   INCIDENT_KEY             28501 non-null  int64         \n",
      " 1   OCCUR_DATE               28501 non-null  datetime64[ns]\n",
      " 2   OCCUR_TIME               28501 non-null  object        \n",
      " 3   PRECINCT_CD              28501 non-null  int64         \n",
      " 4   JURISDICTION_CODE        28501 non-null  float64       \n",
      " 5   BORO                     28501 non-null  category      \n",
      " 6   STATISTICAL_MURDER_FLAG  28501 non-null  bool          \n",
      " 7   PERP_AGE_GROUP           28501 non-null  category      \n",
      " 8   PERP_SEX                 28501 non-null  category      \n",
      " 9   PERP_RACE                28501 non-null  category      \n",
      " 10  VIC_AGE_GROUP            28501 non-null  category      \n",
      " 11  VIC_SEX                  28501 non-null  category      \n",
      " 12  VIC_RACE                 28501 non-null  category      \n",
      " 13  LATITUDE                 28501 non-null  float64       \n",
      " 14  LONGITUDE                28501 non-null  float64       \n",
      "dtypes: bool(1), category(7), datetime64[ns](1), float64(3), int64(2), object(1)\n",
      "memory usage: 1.7+ MB\n"
     ]
    }
   ],
   "source": [
    "shooting_df.info()"
   ]
  },
  {
   "cell_type": "markdown",
   "id": "b91cc6a1",
   "metadata": {},
   "source": [
    "## SQLite Database Creation"
   ]
  },
  {
   "cell_type": "code",
   "execution_count": 31,
   "id": "4d9955e5",
   "metadata": {},
   "outputs": [],
   "source": [
    "# Establish connection and cursor (automatically creates database if it does not exist)\n",
    "conn = sql.connect('../data/database/NYC_CRIME_DATABASE.db')\n",
    "cur = conn.cursor()\n",
    "\n",
    "# Enable foreign keys\n",
    "if cur.execute('PRAGMA foreign_keys;').fetchone()[0] == 0:\n",
    "    cur.execute('PRAGMA foreign_keys = ON;')"
   ]
  },
  {
   "cell_type": "markdown",
   "id": "34cf5537",
   "metadata": {},
   "source": [
    "### Table Creation and Population"
   ]
  },
  {
   "cell_type": "code",
   "execution_count": 32,
   "id": "69ecd5e9",
   "metadata": {
    "scrolled": true
   },
   "outputs": [
    {
     "name": "stdout",
     "output_type": "stream",
     "text": [
      "CREATE TABLE IF NOT EXISTS INTERNAL_CODES(PD_CD INTEGER PRIMARY KEY, PD_DESC TEXT);\n",
      "Table INTERNAL_CODES successfully created.\n"
     ]
    },
    {
     "data": {
      "text/plain": [
       "475"
      ]
     },
     "execution_count": 32,
     "metadata": {},
     "output_type": "execute_result"
    }
   ],
   "source": [
    "# Create internal code descriptions table and populate\n",
    "res = create_table(cursor = cur, table_name = 'INTERNAL_CODES', df = internal_code_df, primary_key = 'PD_CD')\n",
    "internal_code_df.to_sql('INTERNAL_CODES', conn, if_exists = 'replace', index = False)"
   ]
  },
  {
   "cell_type": "code",
   "execution_count": 33,
   "id": "f4a8ee1e",
   "metadata": {},
   "outputs": [
    {
     "name": "stdout",
     "output_type": "stream",
     "text": [
      "CREATE TABLE IF NOT EXISTS OFFENSE_CODES(KY_CD INTEGER PRIMARY KEY, OFNS_DESC TEXT);\n",
      "Table OFFENSE_CODES successfully created.\n"
     ]
    },
    {
     "data": {
      "text/plain": [
       "79"
      ]
     },
     "execution_count": 33,
     "metadata": {},
     "output_type": "execute_result"
    }
   ],
   "source": [
    "# Create offense code descriptions table and populate\n",
    "res = create_table(cursor = cur, table_name = 'OFFENSE_CODES', df = offense_code_df, primary_key = 'KY_CD')\n",
    "offense_code_df.to_sql('OFFENSE_CODES', conn, if_exists = 'replace', index = False)"
   ]
  },
  {
   "cell_type": "code",
   "execution_count": 34,
   "id": "1754b522",
   "metadata": {},
   "outputs": [
    {
     "name": "stdout",
     "output_type": "stream",
     "text": [
      "CREATE TABLE IF NOT EXISTS ARRESTS(ARREST_KEY INTEGER PRIMARY KEY, ARREST_DATE TEXT, KY_CD INTEGER, PD_CD INTEGER, LAW_CAT_CD TEXT, LAW_CODE TEXT, PRECINCT_CD INTEGER, JURISDICTION_CODE INTEGER, BORO TEXT, PERP_AGE_GROUP TEXT, PERP_SEX TEXT, PERP_RACE TEXT, LATITUDE REAL, LONGITUDE REAL, FOREIGN KEY (PD_CD) REFERENCES INTERNAL_CODES(PD_CD), FOREIGN KEY (KY_CD) REFERENCES OFFENSE_CODES(KY_CD));\n",
      "Table ARRESTS successfully created.\n"
     ]
    },
    {
     "data": {
      "text/plain": [
       "5684630"
      ]
     },
     "execution_count": 34,
     "metadata": {},
     "output_type": "execute_result"
    }
   ],
   "source": [
    "# Create arrest table and populate\n",
    "res = create_table(cursor = cur, table_name = 'ARRESTS', df = arrest_df,\n",
    "                   primary_key = 'ARREST_KEY',\n",
    "                   foreign_keys = {\n",
    "                       'PD_CD': ('INTERNAL_CODES', 'PD_CD'),\n",
    "                       'KY_CD': ('OFFENSE_CODES', 'KY_CD')})\n",
    "arrest_df.to_sql('ARRESTS', conn, if_exists = 'replace', index = False)"
   ]
  },
  {
   "cell_type": "code",
   "execution_count": 35,
   "id": "ef3e3d0d",
   "metadata": {},
   "outputs": [
    {
     "name": "stdout",
     "output_type": "stream",
     "text": [
      "CREATE TABLE IF NOT EXISTS COMPLAINTS(CMPLNT_KEY INTEGER PRIMARY KEY, CMPLNT_DATE TEXT, CMPLNT_TIME TEXT, RPT_DT TEXT, KY_CD INTEGER, PD_CD INTEGER, LAW_CAT_CD TEXT, PRECINCT_CD INTEGER, JURISDICTION_CODE INTEGER, JURIS_DESC TEXT, BORO TEXT, SUSP_AGE_GROUP TEXT, SUSP_RACE TEXT, SUSP_SEX TEXT, VIC_AGE_GROUP TEXT, VIC_RACE TEXT, VIC_SEX TEXT, LATITUDE REAL, LONGITUDE REAL, FOREIGN KEY (PD_CD) REFERENCES INTERNAL_CODES(PD_CD), FOREIGN KEY (KY_CD) REFERENCES OFFENSE_CODES(KY_CD));\n",
      "Table COMPLAINTS successfully created.\n"
     ]
    },
    {
     "data": {
      "text/plain": [
       "8859411"
      ]
     },
     "execution_count": 35,
     "metadata": {},
     "output_type": "execute_result"
    }
   ],
   "source": [
    "# Create complaints table and populate\n",
    "res = create_table(cursor = cur, table_name = 'COMPLAINTS', df = complaint_df,\n",
    "                   primary_key = 'CMPLNT_KEY',\n",
    "                   foreign_keys = {\n",
    "                       'PD_CD': ('INTERNAL_CODES', 'PD_CD'),\n",
    "                       'KY_CD': ('OFFENSE_CODES', 'KY_CD')})\n",
    "complaint_df.to_sql('COMPLAINTS', conn, if_exists = 'replace', index = False)"
   ]
  },
  {
   "cell_type": "code",
   "execution_count": 36,
   "id": "ce23b44c",
   "metadata": {},
   "outputs": [
    {
     "name": "stdout",
     "output_type": "stream",
     "text": [
      "CREATE TABLE IF NOT EXISTS SHOOTINGS(INCIDENT_KEY INTEGER PRIMARY KEY, OCCUR_DATE TEXT, OCCUR_TIME TEXT, PRECINCT_CD INTEGER, JURISDICTION_CODE REAL, BORO TEXT, STATISTICAL_MURDER_FLAG INTEGER, PERP_AGE_GROUP TEXT, PERP_SEX TEXT, PERP_RACE TEXT, VIC_AGE_GROUP TEXT, VIC_SEX TEXT, VIC_RACE TEXT, LATITUDE REAL, LONGITUDE REAL);\n",
      "Table SHOOTINGS successfully created.\n"
     ]
    },
    {
     "data": {
      "text/plain": [
       "28501"
      ]
     },
     "execution_count": 36,
     "metadata": {},
     "output_type": "execute_result"
    }
   ],
   "source": [
    "# Create shootings table and populate\n",
    "res = create_table(cursor = cur, table_name = 'SHOOTINGS', df = shooting_df, primary_key = 'INCIDENT_KEY')\n",
    "shooting_df.to_sql('SHOOTINGS', conn, if_exists = 'replace', index = False)"
   ]
  },
  {
   "cell_type": "code",
   "execution_count": 37,
   "id": "dd109173",
   "metadata": {},
   "outputs": [
    {
     "name": "stdout",
     "output_type": "stream",
     "text": [
      "CREATE TABLE IF NOT EXISTS BOROUGHS(BORO_CD TEXT PRIMARY KEY, BORO_DESC TEXT, \"1950\" INTEGER, \"1960\" INTEGER, \"1970\" INTEGER, \"1980\" INTEGER, \"1990\" INTEGER, \"2000\" INTEGER, \"2010\" INTEGER, \"2020\" INTEGER, \"2030\" INTEGER, \"2040\" INTEGER);\n",
      "Table BOROUGHS successfully created.\n"
     ]
    },
    {
     "data": {
      "text/plain": [
       "6"
      ]
     },
     "execution_count": 37,
     "metadata": {},
     "output_type": "execute_result"
    }
   ],
   "source": [
    "# Create borough table and populate\n",
    "res = create_table(cursor = cur, table_name = 'BOROUGHS', df = population_df, primary_key = 'BORO_CD')\n",
    "population_df.to_sql('BOROUGHS', conn, if_exists = 'replace', index = False)"
   ]
  },
  {
   "cell_type": "code",
   "execution_count": 38,
   "id": "12b4b62b",
   "metadata": {},
   "outputs": [],
   "source": [
    "# Close cursor and connection\n",
    "cur.close()\n",
    "conn.close()"
   ]
  }
 ],
 "metadata": {
  "kernelspec": {
   "display_name": "Python 3 (ipykernel)",
   "language": "python",
   "name": "python3"
  },
  "language_info": {
   "codemirror_mode": {
    "name": "ipython",
    "version": 3
   },
   "file_extension": ".py",
   "mimetype": "text/x-python",
   "name": "python",
   "nbconvert_exporter": "python",
   "pygments_lexer": "ipython3",
   "version": "3.8.10"
  }
 },
 "nbformat": 4,
 "nbformat_minor": 5
}
